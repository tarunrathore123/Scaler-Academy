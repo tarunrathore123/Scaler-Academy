{
 "cells": [
  {
   "cell_type": "code",
   "execution_count": null,
   "metadata": {},
   "outputs": [],
   "source": [
    "Enumerating GCD\n",
    "You are given a number P and a number Q. Greatest Common Divisor (GCD) of all numbers\n",
    "between P and Q inclusive is taken (GCD(P, P+1, P+2 ... Q)). As this problem looks a bit easy, \n",
    "it is given that numbers P and Q can be in the range of 10100. You have to return the value of \n",
    "GCD found. Greatest common divisor of 2 numbers A and B is the largest number D that divides\n",
    "both A and B perfectly. \n",
    "\n",
    "Input:    \n",
    "P: String\n",
    "Q: String\n",
    "    \n",
    "Output: Your function should return a string which contains the digits of the integer which represents the GCD. The returned string should not have any leading zeroes. Constraints:\n",
    "\n",
    "1 <= P <= Q <= 10^100\n",
    "\n",
    "Example:\n",
    "Input:\n",
    "P: 1\n",
    "Q: 3\n",
    "\n",
    "Output:\n",
    "1\n",
    "\n",
    "Greatest divisor that divides both 1 and 3 is 1.\n",
    "\n",
    "Input:\n",
    "P: 3412\n",
    "Q: 3412\n",
    "\n",
    "\n",
    "Output:\n",
    "3412\n",
    "\n",
    "As both the numbers are the same, greatest divisor that divides 3412 is 3412."
   ]
  },
  {
   "cell_type": "code",
   "execution_count": null,
   "metadata": {},
   "outputs": [],
   "source": [
    "class Solution:\n",
    "    # @param A : string\n",
    "    # @param B : string\n",
    "    # @return a strings\n",
    "    def solve(self, A, B):\n",
    "        \n",
    "        if A == B:\n",
    "            return A\n",
    "        return 1"
   ]
  }
 ],
 "metadata": {
  "kernelspec": {
   "display_name": "Python 3",
   "language": "python",
   "name": "python3"
  },
  "language_info": {
   "codemirror_mode": {
    "name": "ipython",
    "version": 3
   },
   "file_extension": ".py",
   "mimetype": "text/x-python",
   "name": "python",
   "nbconvert_exporter": "python",
   "pygments_lexer": "ipython3",
   "version": "3.7.3"
  }
 },
 "nbformat": 4,
 "nbformat_minor": 2
}
