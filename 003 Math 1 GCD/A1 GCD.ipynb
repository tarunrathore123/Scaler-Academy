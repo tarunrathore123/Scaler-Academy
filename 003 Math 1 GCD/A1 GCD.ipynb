{
 "cells": [
  {
   "cell_type": "code",
   "execution_count": null,
   "metadata": {},
   "outputs": [],
   "source": [
    "Greatest Common Divisor\n",
    "Given 2 non negative integers m and n, \n",
    "find gcd(m, n) GCD of 2 integers m and n is defined as the greatest integer g such that \n",
    "g is a divisor of both m and n. Both m and n fit in a 32 bit signed integer. \n",
    "\n",
    "Example\n",
    "m : 6\n",
    "n : 9\n",
    "\n",
    "GCD(m, n) : 3 "
   ]
  },
  {
   "cell_type": "code",
   "execution_count": null,
   "metadata": {},
   "outputs": [],
   "source": [
    "class Solution:\n",
    "\t# @param A : integer\n",
    "\t# @param B : integer\n",
    "\t# @return an integer\n",
    "\tdef gcd(self, A, B):\n",
    "\t    \n",
    "\t    if A == B == 0:\n",
    "\t        return -1\n",
    "\t        \n",
    "\t    if A == 0:\n",
    "\t        return B\n",
    "\t        \n",
    "\t    return self.gcd(B%A, A)\n",
    "\t        "
   ]
  }
 ],
 "metadata": {
  "kernelspec": {
   "display_name": "Python 3",
   "language": "python",
   "name": "python3"
  },
  "language_info": {
   "codemirror_mode": {
    "name": "ipython",
    "version": 3
   },
   "file_extension": ".py",
   "mimetype": "text/x-python",
   "name": "python",
   "nbconvert_exporter": "python",
   "pygments_lexer": "ipython3",
   "version": "3.7.3"
  }
 },
 "nbformat": 4,
 "nbformat_minor": 2
}
