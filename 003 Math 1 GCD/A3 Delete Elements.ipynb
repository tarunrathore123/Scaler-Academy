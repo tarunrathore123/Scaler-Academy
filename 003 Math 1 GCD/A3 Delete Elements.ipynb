{
 "cells": [
  {
   "cell_type": "code",
   "execution_count": null,
   "metadata": {},
   "outputs": [],
   "source": [
    "Delete Elements\n",
    "Problem Description\n",
    "Given an integer array A of size N.\n",
    "Find the minimum number of elements that need to be removed such that the\n",
    "GCD of the resulting array becomes 1.\n",
    "\n",
    "If not possible then return -1.\n",
    "  \n",
    "\n",
    "\n",
    "Problem Constraints\n",
    "1 <= N <= 100000\n",
    "1 <= A[i] <= 1e9\n",
    " \n",
    "\n",
    "\n",
    "Input Format\n",
    "Input contains a single integer array A\n",
    " \n",
    "\n",
    "\n",
    "Output Format\n",
    "Return an integer\n",
    "\n",
    "\n",
    "Example Input\n",
    "Input 1:\n",
    "A = [7, 2, 5]\n",
    " \n",
    "\n",
    "\n",
    "Example Output\n",
    "Output 1:\n",
    "0\n",
    " \n",
    "\n",
    "\n",
    "Example Explanation\n",
    "Explanation 1:\n",
    "GCD of the array A is 1.\n",
    "so, the number of elements to be removed is 0."
   ]
  },
  {
   "cell_type": "code",
   "execution_count": null,
   "metadata": {},
   "outputs": [],
   "source": [
    "class Solution:\n",
    "    # @param A : list of integers\n",
    "    # @return an integer\n",
    "    def gcd(self, a, b):\n",
    "        if b==0:\n",
    "            return a\n",
    "        return self.gcd(b, a%b)\n",
    "    \n",
    "    def solve(self, A):\n",
    "        \n",
    "        gcd = A[0]\n",
    "        for i in range(len(A)):\n",
    "            gcd = self.gcd(gcd, A[i])\n",
    "        \n",
    "        if gcd == 1:\n",
    "            return 0\n",
    "        return -1"
   ]
  }
 ],
 "metadata": {
  "kernelspec": {
   "display_name": "Python 3",
   "language": "python",
   "name": "python3"
  },
  "language_info": {
   "codemirror_mode": {
    "name": "ipython",
    "version": 3
   },
   "file_extension": ".py",
   "mimetype": "text/x-python",
   "name": "python",
   "nbconvert_exporter": "python",
   "pygments_lexer": "ipython3",
   "version": "3.7.3"
  }
 },
 "nbformat": 4,
 "nbformat_minor": 2
}
