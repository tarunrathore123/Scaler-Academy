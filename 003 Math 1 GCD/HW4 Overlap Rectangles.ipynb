{
 "cells": [
  {
   "cell_type": "code",
   "execution_count": null,
   "metadata": {},
   "outputs": [],
   "source": [
    "Find if two rectangles overlap\n",
    "Problem Description\n",
    "Given eight integers A, B, C, D, E, F, G and H which represent two rectangles \n",
    "in a 2D plane. For the first rectangle it's bottom left corner is (A, B) and top right \n",
    "corner is (C, D) and for the second rectangle it's bottom left corner is (E, F) and top \n",
    "right corner is (G, H). Find and return whether the two rectangles overlap or not.\n",
    "\n",
    "\n",
    "Problem Constraints\n",
    "-10000 <= A < C <= 10000\n",
    "-10000 <= B < D <= 10000\n",
    "-10000 <= E < G <= 10000\n",
    "-10000 <= F < H <= 10000\n",
    "\n",
    "\n",
    "Input Format\n",
    "The eight arguments given are the integers A, B, C, D, E, F, G and H.\n",
    "\n",
    "\n",
    "Output Format\n",
    "Return 1 if the two rectangles overlap else return 0.\n",
    "\n",
    "\n",
    "Example Input\n",
    "Input 1: A = 0 B = 0 C = 4 D = 4 E = 2 F = 2 G = 6 H = 6 Input 2:\n",
    "A = 0   B = 0\n",
    "C = 4   D = 4\n",
    "E = 2   F = 2\n",
    "G = 3   H = 3\n",
    "\n",
    "\n",
    "Example Output\n",
    "Ouput 1:\n",
    "1\n",
    "Output 2:\n",
    "1\n",
    "\n",
    "\n",
    "Example Explanation\n",
    "Explanation 1:\n",
    "rectangle with bottom left (2,2) and top right (4,4) is overlapping."
   ]
  },
  {
   "cell_type": "code",
   "execution_count": null,
   "metadata": {},
   "outputs": [],
   "source": [
    "class Solution:\n",
    "\n",
    "    def solve(self, A, B, C, D, E, F, G, H):\n",
    "        \n",
    "        if C<=E or A>=G or B >= H or D <= F:\n",
    "            return 0\n",
    "            \n",
    "        return 1\n",
    "            \n"
   ]
  }
 ],
 "metadata": {
  "kernelspec": {
   "display_name": "Python 3",
   "language": "python",
   "name": "python3"
  },
  "language_info": {
   "codemirror_mode": {
    "name": "ipython",
    "version": 3
   },
   "file_extension": ".py",
   "mimetype": "text/x-python",
   "name": "python",
   "nbconvert_exporter": "python",
   "pygments_lexer": "ipython3",
   "version": "3.7.3"
  }
 },
 "nbformat": 4,
 "nbformat_minor": 2
}
