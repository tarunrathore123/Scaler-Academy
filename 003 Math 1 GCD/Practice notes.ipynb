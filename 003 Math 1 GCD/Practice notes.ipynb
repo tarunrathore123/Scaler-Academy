{
 "cells": [
  {
   "cell_type": "markdown",
   "metadata": {},
   "source": [
    "# GCD: O(min(a,b))"
   ]
  },
  {
   "cell_type": "code",
   "execution_count": 6,
   "metadata": {},
   "outputs": [
    {
     "name": "stdout",
     "output_type": "stream",
     "text": [
      "5\n"
     ]
    }
   ],
   "source": [
    "import math\n",
    "def gcd(a,b):\n",
    "    for i in range(min(a,b), 0, -1):\n",
    "        if (a%i == 0) and (b%i == 0):\n",
    "            return i\n",
    "    \n",
    "print(gcd(5,15))"
   ]
  },
  {
   "cell_type": "markdown",
   "metadata": {},
   "source": [
    "# GCD: O(max(a,b))"
   ]
  },
  {
   "cell_type": "code",
   "execution_count": 18,
   "metadata": {},
   "outputs": [
    {
     "name": "stdout",
     "output_type": "stream",
     "text": [
      "5 15\n",
      "10 5\n",
      "5 5\n",
      "0 5\n",
      "GCD of 5 and 15 is 5\n"
     ]
    }
   ],
   "source": [
    "def gcd(a,b):\n",
    "    print(a,b)\n",
    "    if a == b == 0:\n",
    "        return \"Undefined\"\n",
    "    \n",
    "    if a < b:\n",
    "        a,b = b,a\n",
    "    \n",
    "    if b == 0:\n",
    "        return a\n",
    "    \n",
    "    return gcd(a-b,b)\n",
    "\n",
    "print(\"GCD of 5 and 15 is\", gcd(5,15))\n",
    "    "
   ]
  },
  {
   "cell_type": "markdown",
   "metadata": {},
   "source": [
    "### Instead of decreasing one by one. I mean, a-b, a-2b, a-3b, ---- Why not we directly jump to the remainder a%b?"
   ]
  },
  {
   "cell_type": "code",
   "execution_count": 19,
   "metadata": {},
   "outputs": [
    {
     "name": "stdout",
     "output_type": "stream",
     "text": [
      "5 15\n",
      "0 5\n",
      "GCD of 5 and 15 is 5\n"
     ]
    }
   ],
   "source": [
    "def gcd(a,b):\n",
    "    print(a,b)\n",
    "    if a == b == 0:\n",
    "        return \"Undefined\"\n",
    "    \n",
    "    if a < b:\n",
    "        a,b = b,a\n",
    "    \n",
    "    if b == 0:\n",
    "        return a\n",
    "    \n",
    "    return gcd(a%b,b)\n",
    "\n",
    "print(\"GCD of 5 and 15 is\", gcd(5,15))"
   ]
  },
  {
   "cell_type": "markdown",
   "metadata": {},
   "source": [
    "### Here everytime we're swapping when a < b. So, we can swap those while calling in gcd function"
   ]
  },
  {
   "cell_type": "code",
   "execution_count": 20,
   "metadata": {},
   "outputs": [
    {
     "data": {
      "text/plain": [
       "5"
      ]
     },
     "execution_count": 20,
     "metadata": {},
     "output_type": "execute_result"
    }
   ],
   "source": [
    "5%15"
   ]
  },
  {
   "cell_type": "code",
   "execution_count": 21,
   "metadata": {},
   "outputs": [
    {
     "data": {
      "text/plain": [
       "0"
      ]
     },
     "execution_count": 21,
     "metadata": {},
     "output_type": "execute_result"
    }
   ],
   "source": [
    "15%5"
   ]
  },
  {
   "cell_type": "code",
   "execution_count": 32,
   "metadata": {},
   "outputs": [
    {
     "name": "stdout",
     "output_type": "stream",
     "text": [
      "27 54\n",
      "27 27\n",
      "0 27\n",
      "27\n"
     ]
    }
   ],
   "source": [
    "def gcd(a,b):\n",
    "    print(a,b)\n",
    "    \n",
    "    if a == b == 0:\n",
    "        return \"Undefined\"\n",
    "\n",
    "    if a == 0:            # Observe this condition\n",
    "        return b\n",
    "    \n",
    "    return gcd(b%a,a)\n",
    "\n",
    "print(gcd(27,54))"
   ]
  },
  {
   "cell_type": "code",
   "execution_count": 36,
   "metadata": {},
   "outputs": [
    {
     "name": "stdout",
     "output_type": "stream",
     "text": [
      "27 54\n",
      "54 27\n",
      "27 0\n",
      "27\n"
     ]
    }
   ],
   "source": [
    "def gcd(a,b):\n",
    "    print(a,b)\n",
    "    \n",
    "    if a == b == 0:\n",
    "        return \"Undefined\"\n",
    "    \n",
    "    if b == 0:             # Observe this condition\n",
    "        return a\n",
    "\n",
    "    \n",
    "    return gcd(b,a%b)\n",
    "\n",
    "print(gcd(27, 54))"
   ]
  },
  {
   "cell_type": "markdown",
   "metadata": {},
   "source": [
    "#### Here both gcd(a%b,a) and gcd(b,a%b) are same. Just they're reducing the numbers in different ways"
   ]
  },
  {
   "cell_type": "code",
   "execution_count": null,
   "metadata": {},
   "outputs": [],
   "source": []
  }
 ],
 "metadata": {
  "kernelspec": {
   "display_name": "Python 3",
   "language": "python",
   "name": "python3"
  },
  "language_info": {
   "codemirror_mode": {
    "name": "ipython",
    "version": 3
   },
   "file_extension": ".py",
   "mimetype": "text/x-python",
   "name": "python",
   "nbconvert_exporter": "python",
   "pygments_lexer": "ipython3",
   "version": "3.7.3"
  }
 },
 "nbformat": 4,
 "nbformat_minor": 2
}
