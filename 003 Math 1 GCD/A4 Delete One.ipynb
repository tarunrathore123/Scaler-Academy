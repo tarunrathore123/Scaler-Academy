{
 "cells": [
  {
   "cell_type": "code",
   "execution_count": null,
   "metadata": {},
   "outputs": [],
   "source": [
    "Delete one\n",
    "Problem Description\n",
    "Given an integer array A of size N. You have to delete one element such that the\n",
    "GCD(Greatest common divisor) of the remaining array is maximum.\n",
    "\n",
    "Find the maximum value of GCD.\n",
    "\n",
    "\n",
    "Problem Constraints\n",
    "2<=N<=100000\n",
    "1<=A[i]<=10^9\n",
    "\n",
    "\n",
    "Input Format\n",
    "First argument is an integer array A.\n",
    "\n",
    "\n",
    "Output Format\n",
    "Return an integer denoting the maximum value of GCD.\n",
    "\n",
    "\n",
    "Example Input\n",
    "A=[12,15,18]\n",
    "\n",
    "\n",
    "Example Output\n",
    " 6\n",
    "\n",
    "\n",
    "Example Explanation\n",
    "If you delete 12, gcd will be 3.\n",
    "If you delete 15, gcd will be 6.\n",
    "If you delete 18, gcd will 3.\n",
    "Maximum vallue of gcd is 6."
   ]
  },
  {
   "cell_type": "code",
   "execution_count": null,
   "metadata": {},
   "outputs": [],
   "source": [
    "class Solution:\n",
    "    \n",
    "    def gcd(self, a, b):\n",
    "        if b==0:\n",
    "            return a\n",
    "        return self.gcd(b, a%b)\n",
    "    \n",
    "    def solve(self, A):\n",
    "        \n",
    "        n = len(A)\n",
    "        \n",
    "        if n == 2:\n",
    "            return max(A)\n",
    "        \n",
    "        preGCD, postGCD = [0 for i in range(n)], [0 for i in range(n)]\n",
    "        \n",
    "        preGCD[0] = A[0]\n",
    "        for i in range(1, n):\n",
    "            preGCD[i] = self.gcd(preGCD[i-1], A[i])\n",
    "        \n",
    "        postGCD[n-1] = A[n-1]\n",
    "        for j in range(n-2, -1, -1):\n",
    "            postGCD[j] = self.gcd(postGCD[j+1], A[j]) \n",
    "        \n",
    "        max1 = -9999\n",
    "        x = postGCD[1]\n",
    "        for k in range(1, n-1):\n",
    "            x = self.gcd(preGCD[k-1], postGCD[k+1])\n",
    "            max1 = max(x, max1)\n",
    "            \n",
    "        t = self.gcd(max1, preGCD[n-2])\n",
    "        max1 = max(max1, t)\n",
    "        \n",
    "        return max1"
   ]
  }
 ],
 "metadata": {
  "kernelspec": {
   "display_name": "Python 3",
   "language": "python",
   "name": "python3"
  },
  "language_info": {
   "codemirror_mode": {
    "name": "ipython",
    "version": 3
   },
   "file_extension": ".py",
   "mimetype": "text/x-python",
   "name": "python",
   "nbconvert_exporter": "python",
   "pygments_lexer": "ipython3",
   "version": "3.7.3"
  }
 },
 "nbformat": 4,
 "nbformat_minor": 2
}
