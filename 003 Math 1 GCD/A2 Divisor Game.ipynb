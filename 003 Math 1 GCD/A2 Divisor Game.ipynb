{
 "cells": [
  {
   "cell_type": "code",
   "execution_count": null,
   "metadata": {},
   "outputs": [],
   "source": [
    "Divisor game\n",
    "Problem Description\n",
    "Scooby has 3 three integers A, B and C. Scooby calls a positive integer \n",
    "special if it is divisible by B and it is divisible by C. \n",
    "You need to tell number of special integers less than or equal to A. \n",
    "\n",
    "\n",
    "Problem Constraints\n",
    "1<=A,B,C<=1000000000\n",
    "\n",
    "\n",
    "Input Format\n",
    "A positive integer A\n",
    "A positive integer B\n",
    "A positive integer C\n",
    "\n",
    "\n",
    "Output Format\n",
    "One integer corresponding to the number of special integers less than or equal to A.\n",
    "\n",
    "\n",
    "Example Input\n",
    "A=12, B=3, C=2\n",
    "\n",
    "\n",
    "Example Output\n",
    "2\n",
    "\n",
    "\n",
    "Example Explanation\n",
    "The two integers divisible by 2 and 3 and less than or equal to 12 are 6,12."
   ]
  },
  {
   "cell_type": "code",
   "execution_count": null,
   "metadata": {},
   "outputs": [],
   "source": [
    "class Solution:\n",
    "    # @param A : integer\n",
    "    # @param B : integer\n",
    "    # @param C : integer\n",
    "    # @return an integer\n",
    "    \n",
    "    def gcd(self, a, b):\n",
    "        \n",
    "        if b == 0:\n",
    "            return a \n",
    "        return self.gcd(b, a%b)\n",
    "    \n",
    "    def solve(self, A, B, C):\n",
    "        \n",
    "        lcm = (B*C)//self.gcd(B,C)\n",
    "        \n",
    "        return A//lcm"
   ]
  }
 ],
 "metadata": {
  "kernelspec": {
   "display_name": "Python 3",
   "language": "python",
   "name": "python3"
  },
  "language_info": {
   "codemirror_mode": {
    "name": "ipython",
    "version": 3
   },
   "file_extension": ".py",
   "mimetype": "text/x-python",
   "name": "python",
   "nbconvert_exporter": "python",
   "pygments_lexer": "ipython3",
   "version": "3.7.3"
  }
 },
 "nbformat": 4,
 "nbformat_minor": 2
}
