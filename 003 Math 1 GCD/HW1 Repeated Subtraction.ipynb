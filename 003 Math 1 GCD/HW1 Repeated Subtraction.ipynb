{
 "cells": [
  {
   "cell_type": "code",
   "execution_count": null,
   "metadata": {},
   "outputs": [],
   "source": [
    "Repeated Subtraction\n",
    "You are given 2 numbers P and Q. An operation on these 2 numbers is defined as follows:\n",
    "    Take the smaller number of the 2 numbers and subtract it from the bigger number. \n",
    "    Keep performing this operation till either of the following criterion is met:\n",
    "Both numbers become equal.\n",
    "Either of the number becomes 0.\n",
    "Find the sum of the final values of P and Q. Constraints:\n",
    " 0 <= P,Q <= 1e9\n",
    "\n",
    "Input:\n",
    "Two integers P and Q\n",
    "\n",
    "Output:\n",
    "Sum of the final values of P and Q\n",
    "Example: Input:\n",
    "P : 5 \n",
    "Q : 15\n",
    "Output:\n",
    "10\n",
    "\n",
    "Explanation:\n",
    "For the first operation, smaller of P and Q is P.\n",
    "So we subtract P from Q which gives us the new values of P and Q as 5 and 10 resp.\n",
    "For the second operation, smaller of P and Q is P.\n",
    "So we subtract P from Q which gives us the new values of P and Q as 5 and 5 resp.\n",
    "Since the values of P and Q are now same, we output the sum of these values=10."
   ]
  },
  {
   "cell_type": "code",
   "execution_count": null,
   "metadata": {},
   "outputs": [],
   "source": [
    "class Solution:\n",
    "    # @param A : integer\n",
    "    # @param B : integer\n",
    "    # @return an integer\n",
    "    def gcd(self, a, b)    :\n",
    "        if b==0:\n",
    "            return a\n",
    "        return self.gcd(b, a%b)\n",
    "            \n",
    "\n",
    "    def getFinal(self, A, B):\n",
    "        \n",
    "        if A==0 or B==0:\n",
    "            return A+B\n",
    "            \n",
    "        return 2*self.gcd(A,B)\n",
    "        \n"
   ]
  }
 ],
 "metadata": {
  "kernelspec": {
   "display_name": "Python 3",
   "language": "python",
   "name": "python3"
  },
  "language_info": {
   "codemirror_mode": {
    "name": "ipython",
    "version": 3
   },
   "file_extension": ".py",
   "mimetype": "text/x-python",
   "name": "python",
   "nbconvert_exporter": "python",
   "pygments_lexer": "ipython3",
   "version": "3.7.3"
  }
 },
 "nbformat": 4,
 "nbformat_minor": 2
}
