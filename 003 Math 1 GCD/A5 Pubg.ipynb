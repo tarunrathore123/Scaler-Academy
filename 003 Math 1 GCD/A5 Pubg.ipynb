{
 "cells": [
  {
   "cell_type": "code",
   "execution_count": null,
   "metadata": {},
   "outputs": [],
   "source": [
    "Pubg\n",
    "Problem Description\n",
    "There are N players each with strength A[i]. when player i attack player j, \n",
    "player j strength reduces to max(0, A[j]-A[i]). When a player's strength reaches zero, \n",
    "it loses the game and the game continues in the same manner among other players until \n",
    "only 1 survivor remains.\n",
    "\n",
    "Can you tell the minimum health last surviving person can have?\n",
    "\n",
    "\n",
    "Problem Constraints\n",
    "1 <= N <= 100000\n",
    "1 <= A[i] <= 1000000\n",
    "\n",
    "\n",
    "Input Format\n",
    "First and only argument of input contains a single integer array A.\n",
    "\n",
    "\n",
    "Output Format\n",
    "Return a single integer denoting minimum health of last person.\n",
    "\n",
    "\n",
    "Example Input\n",
    "Input 1: A = [6, 4] Input 2:\n",
    "A = [2, 3, 4]\n",
    " \n",
    "\n",
    "\n",
    "Example Output\n",
    "Output 1:\n",
    "2\n",
    "Output 2:\n",
    "1\n",
    "  \n",
    "\n",
    "\n",
    "Example Explanation\n",
    "Explanation 1:\n",
    "second player attack first player. [2, 4]\n",
    "first player attack second player twice. [2, 0]"
   ]
  },
  {
   "cell_type": "code",
   "execution_count": null,
   "metadata": {},
   "outputs": [],
   "source": [
    "class Solution:\n",
    "    # @param A : list of integers\n",
    "    # @return an integer\n",
    "    def gcd(self, a, b):\n",
    "        if b==0:\n",
    "            return a\n",
    "        return self.gcd(b, a%b)\n",
    "        \n",
    "    def solve(self, A):\n",
    "        \n",
    "        gcd = A[0]\n",
    "        for i in range(len(A)):\n",
    "            gcd = self.gcd(gcd, A[i])\n",
    "            \n",
    "        return gcd"
   ]
  }
 ],
 "metadata": {
  "kernelspec": {
   "display_name": "Python 3",
   "language": "python",
   "name": "python3"
  },
  "language_info": {
   "codemirror_mode": {
    "name": "ipython",
    "version": 3
   },
   "file_extension": ".py",
   "mimetype": "text/x-python",
   "name": "python",
   "nbconvert_exporter": "python",
   "pygments_lexer": "ipython3",
   "version": "3.7.3"
  }
 },
 "nbformat": 4,
 "nbformat_minor": 2
}
