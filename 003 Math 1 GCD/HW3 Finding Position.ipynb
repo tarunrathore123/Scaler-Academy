{
 "cells": [
  {
   "cell_type": "code",
   "execution_count": null,
   "metadata": {},
   "outputs": [],
   "source": [
    "Finding Position\n",
    "Problem Description\n",
    "Given an integer A which denotes the number of people standing in the queue.\n",
    "A selection process follows a rule where people standing on even positions are selected. \n",
    "Of the selected people a queue is formed and again out of these only people on even position \n",
    "are selected.\n",
    "\n",
    "This continues until we are left with one person. Find and return the position of\n",
    "that person in the original queue.  \n",
    "\n",
    "\n",
    "Problem Constraints\n",
    "1 <= A <= 10^9\n",
    "\n",
    "\n",
    "Input Format\n",
    "The only argument given is integer A.\n",
    "\n",
    "\n",
    "Output Format\n",
    "Return the position of the last selected person in the original queue.\n",
    "\n",
    "\n",
    "Example Input\n",
    "A = 10\n",
    "\n",
    "\n",
    "Example Output\n",
    "8\n",
    "\n",
    "\n",
    "Example Explanation\n",
    "Initially,people at 2,4,6,8,10 position are selected.\n",
    "Then 4,8 are selected since 4 at 2nd position and 8 at 4th position in the new queue.\n",
    "Finally 8 is selected."
   ]
  },
  {
   "cell_type": "code",
   "execution_count": null,
   "metadata": {},
   "outputs": [],
   "source": [
    "class Solution:\n",
    "    # @param A : integer\n",
    "    # @return an integer\n",
    "    def solve(self, A):\n",
    "        \n",
    "        i = 1\n",
    "        while 2*i <= A:\n",
    "    \n",
    "            i <<= 1\n",
    "    \n",
    "        return i\n",
    "        \n",
    "         \n",
    "        \n"
   ]
  }
 ],
 "metadata": {
  "kernelspec": {
   "display_name": "Python 3",
   "language": "python",
   "name": "python3"
  },
  "language_info": {
   "codemirror_mode": {
    "name": "ipython",
    "version": 3
   },
   "file_extension": ".py",
   "mimetype": "text/x-python",
   "name": "python",
   "nbconvert_exporter": "python",
   "pygments_lexer": "ipython3",
   "version": "3.7.3"
  }
 },
 "nbformat": 4,
 "nbformat_minor": 2
}
