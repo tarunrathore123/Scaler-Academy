{
 "cells": [
  {
   "cell_type": "code",
   "execution_count": null,
   "metadata": {},
   "outputs": [],
   "source": [
    "Wave Array\n",
    "Given an array of integers, sort the array into a wave like array and return it, \n",
    "In other words, arrange the elements into a sequence such that a1 >= a2 <= a3 >= a4 <= a5..... \n",
    "Example\n",
    "Given [1, 2, 3, 4]\n",
    "\n",
    "One possible answer : [2, 1, 4, 3]\n",
    "Another possible answer : [4, 1, 3, 2]\n",
    " NOTE : If there are multiple answers possible, return the one thats lexicographically smallest.\n",
    "So, in example case, you will return [2, 1, 4, 3]"
   ]
  },
  {
   "cell_type": "code",
   "execution_count": null,
   "metadata": {},
   "outputs": [],
   "source": [
    "class Solution:\n",
    "\t# @param A : list of integers\n",
    "\t# @return a list of integers\n",
    "\tdef wave(self, A):\n",
    "\t    \n",
    "\t    A.sort()\n",
    "\t    \n",
    "\t    for i in range(0, len(A)-1, 2):\n",
    "\t        A[i], A[i+1] = A[i+1], A[i]\n",
    "\t        \n",
    "\t    return A"
   ]
  }
 ],
 "metadata": {
  "kernelspec": {
   "display_name": "Python 3",
   "language": "python",
   "name": "python3"
  },
  "language_info": {
   "codemirror_mode": {
    "name": "ipython",
    "version": 3
   },
   "file_extension": ".py",
   "mimetype": "text/x-python",
   "name": "python",
   "nbconvert_exporter": "python",
   "pygments_lexer": "ipython3",
   "version": "3.7.3"
  }
 },
 "nbformat": 4,
 "nbformat_minor": 2
}
