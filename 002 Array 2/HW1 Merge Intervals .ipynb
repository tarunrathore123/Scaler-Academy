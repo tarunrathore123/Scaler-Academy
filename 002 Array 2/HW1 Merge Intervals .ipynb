{
 "cells": [
  {
   "cell_type": "markdown",
   "metadata": {},
   "source": [
    "Merge Intervals\n",
    "Given a set of non-overlapping intervals, insert a new interval into the intervals (merge if necessary). You may assume that the intervals were initially sorted according to their start times. Example 1: Given intervals [1,3],[6,9] insert and merge [2,5] would result in [1,5],[6,9]. Example 2: Given [1,2],[3,5],[6,7],[8,10],[12,16], insert and merge [4,9] would result in [1,2],[3,10],[12,16]. This is because the new interval [4,9] overlaps with [3,5],[6,7],[8,10]. Make sure the returned intervals are also sorted."
   ]
  },
  {
   "cell_type": "code",
   "execution_count": null,
   "metadata": {},
   "outputs": [],
   "source": [
    "# Definition for an interval.\n",
    "# class Interval:\n",
    "#     def __init__(self, s=0, e=0):\n",
    "#         self.start = s\n",
    "#         self.end = e\n",
    "\n",
    "class Solution:\n",
    "    # @param intervals, a list of Intervals\n",
    "    # @param newInterval, a Interval\n",
    "    # @return a list of Interval\n",
    "    def insert(self, tup, b):\n",
    "        \n",
    "        s = b.start\n",
    "        e = b.end\n",
    "        left = right = 0\n",
    "        \n",
    "        while right < len(tup):\n",
    "          if s <= tup[right].end:\n",
    "            if e < tup[right].start:\n",
    "              break\n",
    "            s = min(s, tup[right].start)\n",
    "            e = max(e, tup[right].end)\n",
    "          \n",
    "          else:\n",
    "            left += 1\n",
    "          right += 1\n",
    "          \n",
    "        return tup[:left] + [Interval(s,e)] + tup[right:]\n"
   ]
  }
 ],
 "metadata": {
  "kernelspec": {
   "display_name": "Python 3",
   "language": "python",
   "name": "python3"
  },
  "language_info": {
   "codemirror_mode": {
    "name": "ipython",
    "version": 3
   },
   "file_extension": ".py",
   "mimetype": "text/x-python",
   "name": "python",
   "nbconvert_exporter": "python",
   "pygments_lexer": "ipython3",
   "version": "3.7.3"
  }
 },
 "nbformat": 4,
 "nbformat_minor": 2
}
