{
 "cells": [
  {
   "cell_type": "code",
   "execution_count": null,
   "metadata": {},
   "outputs": [],
   "source": [
    "Max Chunks To Make Sorted II\n",
    "Given an array of integers (not necessarily distinct) A, if we split the array into some \n",
    "number of \"chunks\" (partitions), and individually sort each chunk. After concatenating them, \n",
    "the result equals the sorted array. What is the most number of chunks we could have made? \n",
    "Input Format\n",
    "The only argument given is the integer array A.\n",
    "Output Format\n",
    "Return the maximum number of chunks that we could have made.\n",
    "Constraints\n",
    "1 <= N <= 100000\n",
    "-10^9 <= A[i] <= 10^9\n",
    "For Example\n",
    "Input 1:\n",
    "    A = [3, 2, 3, 4, 0]\n",
    "Output 1:\n",
    "    1\n",
    "\n",
    "Input 2:\n",
    "    A = [2, 0, 1, 2]\n",
    "Output 2:\n",
    "    2"
   ]
  },
  {
   "cell_type": "code",
   "execution_count": null,
   "metadata": {},
   "outputs": [],
   "source": [
    "import copy\n",
    "class Solution:\n",
    "    # @param A : list of integers\n",
    "    # @return an integer\n",
    "    def solve(self, A):\n",
    "\n",
    "        B = copy.deepcopy(A)\n",
    "        B.sort()\n",
    "        \n",
    "        sum1, sum2, cnt = 0, 0, 0\n",
    "        \n",
    "        for i in range(len(A)):\n",
    "          sum1 += A[i]\n",
    "          sum2 += B[i]\n",
    "        \n",
    "          if sum1 == sum2:\n",
    "            cnt += 1\n",
    "            \n",
    "        return cnt "
   ]
  }
 ],
 "metadata": {
  "kernelspec": {
   "display_name": "Python 3",
   "language": "python",
   "name": "python3"
  },
  "language_info": {
   "codemirror_mode": {
    "name": "ipython",
    "version": 3
   },
   "file_extension": ".py",
   "mimetype": "text/x-python",
   "name": "python",
   "nbconvert_exporter": "python",
   "pygments_lexer": "ipython3",
   "version": "3.7.3"
  }
 },
 "nbformat": 4,
 "nbformat_minor": 2
}
