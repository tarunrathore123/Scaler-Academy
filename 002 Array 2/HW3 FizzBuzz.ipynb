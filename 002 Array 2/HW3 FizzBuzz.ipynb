{
 "cells": [
  {
   "cell_type": "code",
   "execution_count": null,
   "metadata": {},
   "outputs": [],
   "source": [
    "FizzBuzz\n",
    " Fizzbuzz is one of the most basic problems in the coding interview world. \n",
    "    Try to write a small and elegant code for this problem. \n",
    "Given a positive integer A, return an array of strings with all the integers from 1 to N. \n",
    "But for multiples of 3 the array should have “Fizz” instead of the number. For the multiples of 5, the array should have “Buzz” instead of the number. For numbers which are multiple of 3 and 5 both, the array should have \"FizzBuzz\" instead of the number. Look at the example for more details. Example\n",
    "A = 5\n",
    "Return: [1 2 Fizz 4 Buzz]"
   ]
  },
  {
   "cell_type": "code",
   "execution_count": null,
   "metadata": {},
   "outputs": [],
   "source": [
    "class Solution:\n",
    "\t# @param A : integer\n",
    "\t# @return a list of strings\n",
    "\tdef fizzBuzz(self, n):\n",
    "\t    \n",
    "\t    arr = []\n",
    "\t    \n",
    "\t    for i in range(1,n+1):\n",
    "\t        if ((i%3)==0) and ((i%5) == 0):\n",
    "\t            arr.append(\"FizzBuzz\")\n",
    "\t        elif (i%3)== 0:\n",
    "\t            arr.append(\"Fizz\")\n",
    "\t        elif (i%5)== 0:\n",
    "\t            arr.append(\"Buzz\")\n",
    "\t        else:\n",
    "\t            arr.append(i)\n",
    "\t            \n",
    "\t    return arr"
   ]
  }
 ],
 "metadata": {
  "kernelspec": {
   "display_name": "Python 3",
   "language": "python",
   "name": "python3"
  },
  "language_info": {
   "codemirror_mode": {
    "name": "ipython",
    "version": 3
   },
   "file_extension": ".py",
   "mimetype": "text/x-python",
   "name": "python",
   "nbconvert_exporter": "python",
   "pygments_lexer": "ipython3",
   "version": "3.7.3"
  }
 },
 "nbformat": 4,
 "nbformat_minor": 2
}
