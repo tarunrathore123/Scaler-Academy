{
 "cells": [
  {
   "cell_type": "code",
   "execution_count": null,
   "metadata": {},
   "outputs": [],
   "source": [
    "Sum of all Submatrices\n",
    "Given a 2D Matrix of dimensions N*N, we need to return sum of all possible submatrices. Example Input\n",
    "[ [1,1],\n",
    "  [1,1] ]\n",
    "Example Output\n",
    "16\n",
    "Explanation\n",
    "Number of submatrices with 1 elements = 4, so sum of all such submatrices = 4*1 = 4\n",
    "Number of submatrices with 2 elements = 4, so sum of all such submatrices = 4*2 = 8\n",
    "Number of submatrices with 3 elements = 0\n",
    "Number of submatrices with 4 elements = 1, so sum of such submatrix = 4\n",
    "\n",
    "Total Sum = 4+8+4 = 16"
   ]
  },
  {
   "cell_type": "code",
   "execution_count": null,
   "metadata": {},
   "outputs": [],
   "source": [
    "class Solution:\n",
    "    # @param A : list of list of integers\n",
    "    # @return an integer\n",
    "    def solve(self, arr):       # O(n^2) solution\n",
    "        \n",
    "        n = len(arr)\n",
    "        sum = 0\n",
    "        \n",
    "        for i in range(n):\n",
    "          for j in range(n):\n",
    "              sum += (i+1)*(j+1)*(n-i)*(n-j)*arr[i][j]\n",
    "              \n",
    "              \n",
    "        return sum\n"
   ]
  }
 ],
 "metadata": {
  "kernelspec": {
   "display_name": "Python 3",
   "language": "python",
   "name": "python3"
  },
  "language_info": {
   "codemirror_mode": {
    "name": "ipython",
    "version": 3
   },
   "file_extension": ".py",
   "mimetype": "text/x-python",
   "name": "python",
   "nbconvert_exporter": "python",
   "pygments_lexer": "ipython3",
   "version": "3.7.3"
  }
 },
 "nbformat": 4,
 "nbformat_minor": 2
}
