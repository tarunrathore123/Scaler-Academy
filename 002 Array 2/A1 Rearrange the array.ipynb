{
 "cells": [
  {
   "cell_type": "code",
   "execution_count": null,
   "metadata": {},
   "outputs": [],
   "source": [
    "Rearrange the array\n",
    "Given an array of integers A of size N that is a permutation of [0, 1, 2, ..., (N-1)]. Rearrange the array such that A[i] = j is changed to A[j] = i for all i and j form 0 to N-1. Note: Try solving this with O(1) extra space. \n",
    "Input Format\n",
    "The only argument given is the integer array A.\n",
    "Output Format\n",
    "Return the rearranged array A.\n",
    "Constraints\n",
    "1 <= N <= 100000\n",
    "0 <= A[i] < N\n",
    "For Example\n",
    "Input 1:\n",
    "    A = [1, 2, 3, 4, 0]\n",
    "Output 1:\n",
    "    [4, 0, 1, 2, 3]\n",
    "\n",
    "Input 2:\n",
    "    A = [2, 0, 1, 3]\n",
    "Output 2:\n",
    "    [1, 2, 0, 3]"
   ]
  },
  {
   "cell_type": "code",
   "execution_count": null,
   "metadata": {},
   "outputs": [],
   "source": [
    "class Solution:\n",
    "    # @param A : list of integers\n",
    "    # @return a list of integers\n",
    "    def solve(self, A):\n",
    "        n = len(A)\n",
    "        res = [0]*n\n",
    "        \n",
    "        for i in range(n):\n",
    "            res[ A[i] ] = i\n",
    "            \n",
    "        return res\n"
   ]
  }
 ],
 "metadata": {
  "kernelspec": {
   "display_name": "Python 3",
   "language": "python",
   "name": "python3"
  },
  "language_info": {
   "codemirror_mode": {
    "name": "ipython",
    "version": 3
   },
   "file_extension": ".py",
   "mimetype": "text/x-python",
   "name": "python",
   "nbconvert_exporter": "python",
   "pygments_lexer": "ipython3",
   "version": "3.7.3"
  }
 },
 "nbformat": 4,
 "nbformat_minor": 2
}
