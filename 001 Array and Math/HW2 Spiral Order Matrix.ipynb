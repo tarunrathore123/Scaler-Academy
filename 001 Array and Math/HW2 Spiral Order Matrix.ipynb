{
 "cells": [
  {
   "cell_type": "code",
   "execution_count": null,
   "metadata": {},
   "outputs": [],
   "source": [
    "Spiral Order Matrix II\n",
    "Given an integer A, generate a square matrix filled with elements from 1 to A2 in spiral order. \n",
    " Input Format:\n",
    "The first and the only argument contains an integer, A.\n",
    "Output Format:\n",
    "Return a 2-d matrix of size A x A satisfying the spiral order.\n",
    "Constraints:\n",
    "1 <= A <= 1000\n",
    "Examples:\n",
    "Input 1:\n",
    "    A = 3\n",
    "\n",
    "Output 1:\n",
    "    [   [ 1, 2, 3 ],\n",
    "        [ 8, 9, 4 ],\n",
    "        [ 7, 6, 5 ]   ]\n",
    "\n",
    "Input 2:\n",
    "    4\n",
    "\n",
    "Output 2:\n",
    "    [   [1, 2, 3, 4],\n",
    "        [12, 13, 14, 5],\n",
    "        [11, 16, 15, 6],\n",
    "        [10, 9, 8, 7]   ]"
   ]
  },
  {
   "cell_type": "code",
   "execution_count": null,
   "metadata": {},
   "outputs": [],
   "source": [
    "class Solution:\n",
    "\tdef generateMatrix(self, n):\n",
    "        \t    \n",
    "        arr = [[0 for i in range(n)] for j in range(n)] \n",
    "        \n",
    "        row, start = 0, 0\n",
    "        col, end = n-1, n-1\n",
    "        cnt = 0\n",
    "        num = 1\n",
    "        \n",
    "        while cnt < (n*n):\n",
    "          for i in range(start, end+1):\n",
    "            arr[row][i] = num\n",
    "            num += 1\n",
    "            cnt += 1\n",
    "          row += 1\n",
    "        \n",
    "          for j in range(row, end+1):\n",
    "            arr[j][col] = num\n",
    "            num += 1\n",
    "            cnt += 1\n",
    "          col -= 1\n",
    "          \n",
    "          \n",
    "          for i in range(col, start-1, -1):\n",
    "            arr[end][i] = num\n",
    "            num += 1\n",
    "            cnt += 1\n",
    "          end -= 1\n",
    "        \n",
    "          for j in range(end, row-1, -1):\n",
    "            arr[j][start] = num\n",
    "            num += 1\n",
    "            cnt += 1\n",
    "          start += 1\n",
    "        \n",
    "        return arr   \n",
    "     "
   ]
  }
 ],
 "metadata": {
  "kernelspec": {
   "display_name": "Python 3",
   "language": "python",
   "name": "python3"
  },
  "language_info": {
   "codemirror_mode": {
    "name": "ipython",
    "version": 3
   },
   "file_extension": ".py",
   "mimetype": "text/x-python",
   "name": "python",
   "nbconvert_exporter": "python",
   "pygments_lexer": "ipython3",
   "version": "3.7.3"
  }
 },
 "nbformat": 4,
 "nbformat_minor": 2
}
