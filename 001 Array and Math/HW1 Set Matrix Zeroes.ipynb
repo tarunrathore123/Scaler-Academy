{
 "cells": [
  {
   "cell_type": "code",
   "execution_count": null,
   "metadata": {},
   "outputs": [],
   "source": [
    "Set Matrix Zeros\n",
    "Given a matrix, A of size M x N of 0s and 1s. If an element is 0, set its entire row and column to 0. Note: This will be evaluated on the extra memory used. Try to minimize the space and time complexity. \n",
    " Input Format:\n",
    "The first and the only argument of input contains a 2-d integer matrix, A, of size M x N.\n",
    "Output Format:\n",
    "Return a 2-d matrix that satisfies the given conditions.\n",
    "Constraints:\n",
    "1 <= N, M <= 1000\n",
    "0 <= A[i][j] <= 1\n",
    "Examples:\n",
    "Input 1:\n",
    "    [   [1, 0, 1],\n",
    "        [1, 1, 1], \n",
    "        [1, 1, 1]   ]\n",
    "\n",
    "Output 1:\n",
    "    [   [0, 0, 0],\n",
    "        [1, 0, 1],\n",
    "        [1, 0, 1]   ]\n",
    "\n",
    "Input 2:\n",
    "    [   [1, 0, 1],\n",
    "        [1, 1, 1],\n",
    "        [1, 0, 1]   ]\n",
    "\n",
    "Output 2:\n",
    "    [   [0, 0, 0],\n",
    "        [1, 0, 1],\n",
    "        [0, 0, 0]   ]"
   ]
  },
  {
   "cell_type": "code",
   "execution_count": null,
   "metadata": {},
   "outputs": [],
   "source": [
    "class Solution:\n",
    "    # @param A : list of list of integers\n",
    "    # @return the same list modified\n",
    "    def setZeroes(self, arr):\n",
    "    \n",
    "        rowLen = len(arr)\n",
    "        colLen = len(arr[0])\n",
    "        row = set()\n",
    "        col = set()\n",
    "        \n",
    "        for i in range(rowLen):\n",
    "          for j in range(colLen):\n",
    "            if arr[i][j] == 0:\n",
    "              row.add(i)\n",
    "              col.add(j)\n",
    "            \n",
    "        for i in row:\n",
    "          for x in range(colLen):\n",
    "            arr[i][x] = 0\n",
    "        \n",
    "        for j in col:\n",
    "          for y in range(rowLen):\n",
    "            arr[y][j] = 0\n",
    "\n",
    "        return arr\n",
    "          "
   ]
  }
 ],
 "metadata": {
  "kernelspec": {
   "display_name": "Python 3",
   "language": "python",
   "name": "python3"
  },
  "language_info": {
   "codemirror_mode": {
    "name": "ipython",
    "version": 3
   },
   "file_extension": ".py",
   "mimetype": "text/x-python",
   "name": "python",
   "nbconvert_exporter": "python",
   "pygments_lexer": "ipython3",
   "version": "3.7.3"
  }
 },
 "nbformat": 4,
 "nbformat_minor": 2
}
