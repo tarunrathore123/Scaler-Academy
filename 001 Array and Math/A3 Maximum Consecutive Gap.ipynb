{
 "cells": [
  {
   "cell_type": "code",
   "execution_count": null,
   "metadata": {},
   "outputs": [],
   "source": [
    "Maximum Consecutive Gap\n",
    "Given an unsorted array, find the maximum difference between the successive elements\n",
    "in its sorted form. Try to solve it in linear time/space. Example :\n",
    "\n",
    "    Input : [1, 10, 5]\n",
    "    Output : 5 \n",
    "    \n",
    "Return 0 if the array contains less than 2 elements\n",
    "\n",
    "You may assume that all the elements in the array are non-negative integers \n",
    "and fit in the 32-bit signed integer range\n",
    "\n",
    "You may also assume that the difference will not overflow"
   ]
  },
  {
   "cell_type": "code",
   "execution_count": 36,
   "metadata": {},
   "outputs": [
    {
     "name": "stdout",
     "output_type": "stream",
     "text": [
      "5\n"
     ]
    }
   ],
   "source": [
    "import sys\n",
    "import math\n",
    "class Solution:\n",
    "    def maximumGap(self, arr):\n",
    "        n = len(arr)\n",
    "        \n",
    "        minEle = min(arr)\n",
    "        maxEle = max(arr)\n",
    "        \n",
    "        if n < 2 or minEle == maxEle:\n",
    "            return 0\n",
    "            \n",
    "        pInf = sys.maxsize\n",
    "        nInf = 1 - sys.maxsize\n",
    "        \n",
    "        gap = ((maxEle - minEle)/(n-1))\n",
    "    \n",
    "        minBucket = [pInf]*n\n",
    "        maxBucket = [nInf]*n\n",
    "        \n",
    "        for i in range(n):\n",
    "            \n",
    "            bucket = math.floor( ((arr[i]-minEle)/gap) )       # check\n",
    "            \n",
    "            minBucket[bucket] = min(minBucket[bucket], arr[i])\n",
    "            maxBucket[bucket] = max(maxBucket[bucket], arr[i])\n",
    "            \n",
    "        res = []\n",
    "        for i in range(n):\n",
    "            if minBucket[i]!=pInf:\n",
    "                res.append(minBucket[i])\n",
    "            if maxBucket[i] != nInf:\n",
    "                res.append(maxBucket[i])\n",
    "                        \n",
    "        maxGap = nInf\n",
    "            \n",
    "        for i in range(1, len(res)):\n",
    "            maxGap = max(maxGap, res[i]-res[i-1])\n",
    "               \n",
    "            \n",
    "        return maxGap"
   ]
  }
 ],
 "metadata": {
  "kernelspec": {
   "display_name": "Python 3",
   "language": "python",
   "name": "python3"
  },
  "language_info": {
   "codemirror_mode": {
    "name": "ipython",
    "version": 3
   },
   "file_extension": ".py",
   "mimetype": "text/x-python",
   "name": "python",
   "nbconvert_exporter": "python",
   "pygments_lexer": "ipython3",
   "version": "3.7.3"
  }
 },
 "nbformat": 4,
 "nbformat_minor": 2
}
