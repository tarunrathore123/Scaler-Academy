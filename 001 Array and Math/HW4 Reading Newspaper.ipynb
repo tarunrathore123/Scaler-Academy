{
 "cells": [
  {
   "cell_type": "code",
   "execution_count": null,
   "metadata": {},
   "outputs": [],
   "source": [
    "Reading Newspaper\n",
    "Problem Description\n",
    "You have a newspaper which has A lines to read. You decided to start reading the 1st line from Monday. You are given a schedule, B, where B[i] = number of lines you can read on that day. You are very strict in reading the newspaper and you will read as much as you can every day. Determine and return, which day of the week you will read the last line of the newspaper. \n",
    "\n",
    "\n",
    "Problem Constraints\n",
    "1 <= A <= 1000 0 <= B[i] <= 1000 \n",
    "\n",
    "\n",
    "Input Format\n",
    "The first argument contains the single integer A — the number of lines in the newspaper. The second argument is an array B, of size 7 and those integers represent how many lines you can read on Monday, Tuesday, Wednesday, Thursday, Friday, Saturday and Sunday correspondingly. Note: It is guaranteed that at least one of the number in B[i] is larger than zero. \n",
    "\n",
    "\n",
    "Output Format\n",
    "Return a single integer — the number of the day of the week, when you will finish reading the newspaper. The days of the week are numbered starting with one in the order: Monday, Tuesday, Wednesday, Thursday, Friday, Saturday, Sunday.\n",
    "\n",
    "\n",
    "Example Input\n",
    "A = 100, B = [15, 20, 20, 15, 10, 30, 45]\n",
    "\n",
    "\n",
    "Example Output\n",
    "6"
   ]
  },
  {
   "cell_type": "code",
   "execution_count": null,
   "metadata": {},
   "outputs": [],
   "source": [
    "class Solution:\n",
    "    # @param A : integer\n",
    "    # @param B : list of integers\n",
    "    # @return an integer\n",
    "    def solve(self, A, B):\n",
    "        \n",
    "        i = 0\n",
    "        n = len(B)\n",
    "        while A > 0:\n",
    "            A -= B[i%n]\n",
    "            if A <= 0:\n",
    "                return (i%n)+1\n",
    "            i += 1"
   ]
  }
 ],
 "metadata": {
  "kernelspec": {
   "display_name": "Python 3",
   "language": "python",
   "name": "python3"
  },
  "language_info": {
   "codemirror_mode": {
    "name": "ipython",
    "version": 3
   },
   "file_extension": ".py",
   "mimetype": "text/x-python",
   "name": "python",
   "nbconvert_exporter": "python",
   "pygments_lexer": "ipython3",
   "version": "3.7.3"
  }
 },
 "nbformat": 4,
 "nbformat_minor": 2
}
