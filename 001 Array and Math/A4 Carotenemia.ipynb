{
 "cells": [
  {
   "cell_type": "code",
   "execution_count": null,
   "metadata": {},
   "outputs": [],
   "source": [
    "Carotenemia\n",
    "\n",
    "You are given an Array of boxes A, where each box consists of oranges. \n",
    "You really love oranges, and you want to eat atleast B oranges. \n",
    "You start from the 0th index of the array, and keep eating oranges until you eat B oranges. \n",
    "If oranges from a box at ith index get depleted, you start eating from the (i+1)th box. \n",
    "Determine index of the box where you finish eating B number of oranges. \n",
    "If you don't eat B oranges even after eating from all the boxes, return -1. Input:\n",
    "\n",
    "A: Array of integers.\n",
    "B: Integer\n",
    "\n",
    "Output:\n",
    "Integer\n",
    "Constraints:\n",
    "1 <= size(A) <= 10^5\n",
    "1 <= Integers in A <= 10^4\n",
    "1 <= B <= 10^9\n",
    "\n",
    "Example: Input\n",
    "A: [1, 3, 2, 4]\n",
    "B: 5\n",
    "Output\n",
    "2\n",
    "\n",
    "You eat 1 orange from box 0.\n",
    "You eat 3 oranges from box 1, hence a total of 4 oranges.\n",
    "You eat 1 orange from box 2, hence a total of 5 oranges, and you stop.\n",
    "\n",
    "\n",
    "Input\n",
    "A: [1, 1, 1, 4]\n",
    "B: 10\n",
    "Output\n",
    "-1\n",
    "\n",
    "You eat 1 orange from box 0.\n",
    "You eat 1 orange from box 1, hence a total of 2 oranges.\n",
    "You eat 1 orange from box 2, hence a total of 3 oranges.\n",
    "You eat 4 oranges from box 3, hence a total of 7 oranges.\n",
    "As you never complete 10 oranges, return -1."
   ]
  },
  {
   "cell_type": "code",
   "execution_count": null,
   "metadata": {},
   "outputs": [],
   "source": [
    "class Solution:\n",
    "    # @param A : list of integers\n",
    "    # @param B : integer\n",
    "    # @return an integer\n",
    "    def solve(self, A, B):\n",
    "        for i in range(len(A)):\n",
    "            B -= A[i]\n",
    "            if B <= 0:\n",
    "                return i\n",
    "        return -1"
   ]
  }
 ],
 "metadata": {
  "kernelspec": {
   "display_name": "Python 3",
   "language": "python",
   "name": "python3"
  },
  "language_info": {
   "codemirror_mode": {
    "name": "ipython",
    "version": 3
   },
   "file_extension": ".py",
   "mimetype": "text/x-python",
   "name": "python",
   "nbconvert_exporter": "python",
   "pygments_lexer": "ipython3",
   "version": "3.7.3"
  }
 },
 "nbformat": 4,
 "nbformat_minor": 2
}
