{
 "cells": [
  {
   "cell_type": "code",
   "execution_count": null,
   "metadata": {},
   "outputs": [],
   "source": [
    "Prime Sum\n",
    "\n",
    "Problem Description\n",
    "Given an even number A ( greater than 2 ), return two prime numbers whose sum will be equal \n",
    "to given number. NOTE: A solution will always exist. read Goldbach's conjecture\n",
    "If there are more than one solutions possible, return the lexicographically smaller solution\n",
    "\n",
    "If [a, b] is one solution with a <= b,\n",
    "and [c,d] is another solution with c <= d, then\n",
    "\n",
    "[a, b] < [c, d] \n",
    "\n",
    "If a < c OR a==c AND b < d. \n",
    " \n",
    "\n",
    "\n",
    "Problem Constraints\n",
    "4 <= A <= 2e7\n",
    "\n",
    "\n",
    "Input Format\n",
    "First and only argument of input is even number A.\n",
    "\n",
    "\n",
    "Output Format\n",
    "Return a integer array of size 2 containing prime which sum to A.\n",
    "\n",
    "\n",
    "Example Input\n",
    " 4\n",
    "\n",
    "\n",
    "Example Output\n",
    " [2, 2]\n",
    "\n",
    "\n",
    "Example Explanation\n",
    " There is only 1 solution for A = 4."
   ]
  },
  {
   "cell_type": "code",
   "execution_count": null,
   "metadata": {},
   "outputs": [],
   "source": [
    "class Solution:\n",
    "    # @param A : integer\n",
    "    # @return a list of integers\n",
    "    def isprime(self, n):\n",
    "        if n < 2:\n",
    "            return False\n",
    "        \n",
    "        i = 2\n",
    "        while i*i<=n:\n",
    "            if n%i==0:\n",
    "                return False\n",
    "                \n",
    "            i+= 1\n",
    "        return True\n",
    "        \n",
    "    def primesum(self, A):\n",
    "\n",
    "        for i in range(2, A+1):\n",
    "            if self.isprime(i) and self.isprime(A-i):\n",
    "                return i, A-i\n",
    "                \n",
    "                "
   ]
  }
 ],
 "metadata": {
  "kernelspec": {
   "display_name": "Python 3",
   "language": "python",
   "name": "python3"
  },
  "language_info": {
   "codemirror_mode": {
    "name": "ipython",
    "version": 3
   },
   "file_extension": ".py",
   "mimetype": "text/x-python",
   "name": "python",
   "nbconvert_exporter": "python",
   "pygments_lexer": "ipython3",
   "version": "3.7.3"
  }
 },
 "nbformat": 4,
 "nbformat_minor": 2
}
