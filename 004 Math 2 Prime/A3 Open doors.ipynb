{
 "cells": [
  {
   "cell_type": "code",
   "execution_count": null,
   "metadata": {},
   "outputs": [],
   "source": [
    "Number Of Open Doors\n",
    "\n",
    "Given an integer A which denotes the number of doors in a row numbered 1 to A.\n",
    "All the doors are closed initially. A person moves to and fro changing the states \n",
    "of the doors as follows: the person opens a door that is already closed and closes \n",
    "    a door that is already opened. In the first go, the person alters the states of\n",
    "    doors numbered 1, 2, 3, … , A. In the second go, she alters the states of doors\n",
    "    numbered 2, 4, 6 … In the third go, she alters the states of doors numbered 3, 6, 9 … \n",
    "    This continues till the A'th go in which you alter the state of the door numbered A. \n",
    "    Find and return the number of open doors at the end of the procedure. \n",
    "\n",
    "Input Format\n",
    "The only argument given is integer A.\n",
    "Output Format\n",
    "Return the number of open doors at the end of the procedure.\n",
    "Constraints\n",
    "1 <= A <= 10^9\n",
    "For Example\n",
    "Input 1:\n",
    "    A = 10\n",
    "Output 1:\n",
    "    3\n",
    "\n",
    "Input 2:\n",
    "    A = 20\n",
    "Output 2:\n",
    "    4"
   ]
  },
  {
   "cell_type": "code",
   "execution_count": null,
   "metadata": {},
   "outputs": [],
   "source": [
    "import math\n",
    "class Solution:\n",
    "    # @param A : integer\n",
    "    # @return an integer\n",
    "    def solve(self, A):\n",
    "        cnt = 0\n",
    "        for i in range(1,A+1):\n",
    "            if (i*i) <= A:\n",
    "                cnt += 1\n",
    "                \n",
    "            else:\n",
    "                return cnt\n",
    "        return cnt"
   ]
  }
 ],
 "metadata": {
  "kernelspec": {
   "display_name": "Python 3",
   "language": "python",
   "name": "python3"
  },
  "language_info": {
   "codemirror_mode": {
    "name": "ipython",
    "version": 3
   },
   "file_extension": ".py",
   "mimetype": "text/x-python",
   "name": "python",
   "nbconvert_exporter": "python",
   "pygments_lexer": "ipython3",
   "version": "3.7.3"
  }
 },
 "nbformat": 4,
 "nbformat_minor": 2
}
