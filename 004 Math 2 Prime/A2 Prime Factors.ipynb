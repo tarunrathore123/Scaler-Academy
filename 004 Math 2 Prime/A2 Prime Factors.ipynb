{
 "cells": [
  {
   "cell_type": "code",
   "execution_count": null,
   "metadata": {},
   "outputs": [],
   "source": [
    "Prime Factors\n",
    "\n",
    "Problem Description\n",
    "You are given a Task as described below :\n",
    "You are given A queries. For each query(1<=i<=A) you are given a prime number B[i], \n",
    "you need to give the count of all numbers in range 1 to 10^6 inclusive which have minimum \n",
    "prime factor B[i] for each query.\n",
    "\n",
    "\n",
    "Problem Constraints\n",
    "1<= A <=10^5\n",
    "1<= B[i] <=10^6\n",
    "\n",
    "\n",
    "Input Format\n",
    "The first argument consists of an integer A, the number of queries.\n",
    "The second argument consists of an array B of size A.\n",
    "\n",
    "\n",
    "Output Format\n",
    "Return an array which contains the count of all numbers in range 1 to 10^6 (inclusive), \n",
    "which have minimum prime factor B[i] for each query.\n",
    "\n",
    "\n",
    "Example Input\n",
    "A=1\n",
    "B=[11]\n",
    "\n",
    "\n",
    "Example Output\n",
    "20779\n",
    "\n",
    "\n",
    "Example Explanation\n",
    "The numbers with minimum prime factor as 11 are: 11, 121, 143, ..."
   ]
  },
  {
   "cell_type": "code",
   "execution_count": null,
   "metadata": {},
   "outputs": [],
   "source": [
    "# Also solve prime1 on codechef\n",
    "\n",
    "class Solution:\n",
    " \n",
    "    def solve(self, A, B):\n",
    "        \n",
    "        max1 = int(1e6)+1\n",
    "        \n",
    "        prime = [True for i in range(max1)]\n",
    "        prime[0] = False\n",
    "        prime[1] = False\n",
    "        \n",
    "        ans = [0 for i in range(max1)]\n",
    "        \n",
    "        for i in range(2, max1, 1):\n",
    "            if prime[i]:\n",
    "                for j in range(2*i, max1, i):\n",
    "                    if prime[j]:\n",
    "                        ans[i]+=1\n",
    "                    prime[j] = False\n",
    "                    \n",
    "            \n",
    "        res = []\n",
    "        for i in range(A):\n",
    "            res.append(ans[B[i]]+1)\n",
    "        \n",
    "        return res\n",
    "            "
   ]
  }
 ],
 "metadata": {
  "kernelspec": {
   "display_name": "Python 3",
   "language": "python",
   "name": "python3"
  },
  "language_info": {
   "codemirror_mode": {
    "name": "ipython",
    "version": 3
   },
   "file_extension": ".py",
   "mimetype": "text/x-python",
   "name": "python",
   "nbconvert_exporter": "python",
   "pygments_lexer": "ipython3",
   "version": "3.7.3"
  }
 },
 "nbformat": 4,
 "nbformat_minor": 2
}
