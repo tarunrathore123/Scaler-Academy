{
 "cells": [
  {
   "cell_type": "code",
   "execution_count": null,
   "metadata": {},
   "outputs": [],
   "source": [
    "Largest Coprime Divisor\n",
    "\n",
    "Problem Description\n",
    "You are given two positive numbers A and B . You need to find the maximum valued \n",
    "integer X such that: \n",
    "X divides A i.e. A % X = 0\n",
    "X and B are co-prime i.e. gcd(X, B) = 1\n",
    " \n",
    "\n",
    "\n",
    "Problem Constraints\n",
    "1 <= A,B <= 109\n",
    "\n",
    "\n",
    "Input Format\n",
    "First argument is an integer A.\n",
    "Second argument is an integer B.\n",
    "\n",
    "\n",
    "Output Format\n",
    "Return an integer maximum value of X as descibed above.\n",
    "\n",
    "\n",
    "Example Input\n",
    " A=30, B=12\n",
    "\n",
    "\n",
    "Example Output\n",
    " 5\n",
    "\n",
    "\n",
    "Example Explanation\n",
    " All divisors of A are (1,2,3,5,6,10,15,30). \n",
    " The maximum value is 5 such that A%5==0 and gcd(5,12)=1"
   ]
  },
  {
   "cell_type": "code",
   "execution_count": null,
   "metadata": {},
   "outputs": [],
   "source": [
    "class Solution:\n",
    "\t# @param A : integer\n",
    "\t# @param B : integer\n",
    "\t# @return an integer\n",
    "\n",
    "    def gcd(self, a, b):\n",
    "        if a==0 or b == 0:\n",
    "            return a+b\n",
    "        return self.gcd(b, a%b)\n",
    "\t\n",
    "\t\n",
    "\tdef cpFact(self, A, B):\n",
    "\t    \n",
    "\t   # while (self.gcd(A,B)!=1):\n",
    "\t   #     A //= self.gcd(A,B)\n",
    "\t        \n",
    "\t   # return A\n",
    "\t    \n",
    "\t    x = self.gcd(A,B)\n",
    "\t    if x == 1:\n",
    "\t        return A\n",
    "\t    return self.cpFact(A//x, B)"
   ]
  }
 ],
 "metadata": {
  "kernelspec": {
   "display_name": "Python 3",
   "language": "python",
   "name": "python3"
  },
  "language_info": {
   "codemirror_mode": {
    "name": "ipython",
    "version": 3
   },
   "file_extension": ".py",
   "mimetype": "text/x-python",
   "name": "python",
   "nbconvert_exporter": "python",
   "pygments_lexer": "ipython3",
   "version": "3.7.3"
  }
 },
 "nbformat": 4,
 "nbformat_minor": 2
}
