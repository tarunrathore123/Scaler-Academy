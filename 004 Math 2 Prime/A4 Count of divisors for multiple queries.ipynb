{
 "cells": [
  {
   "cell_type": "code",
   "execution_count": null,
   "metadata": {},
   "outputs": [],
   "source": [
    "Count of divisors for multiple queries\n",
    "\n",
    "Problem Description\n",
    "Given an array of integers A, find and return the count of divisors of each element \n",
    "of the array. Note: Order of the resultant array should be same as the input array. \n",
    "\n",
    "\n",
    "Problem Constraints\n",
    "1 <= length of the array <= 100000\n",
    "1 <= A[i] <= 10^6\n",
    "\n",
    "\n",
    "Input Format\n",
    "The only argument given is the integer array A.\n",
    "\n",
    "\n",
    "Output Format\n",
    "Return the count of divisors of each element of the array in the form of an array.\n",
    "\n",
    "\n",
    "Example Input\n",
    " A = [2, 3, 4, 5]\n",
    "\n",
    "\n",
    "Example Output\n",
    " [2, 2, 3, 2]\n",
    "\n",
    "\n",
    "Example Explanation\n",
    " The number of divisors of 2 : [1,2], 3 : [1,3], 4 : [1,2,4], 5 : [1,5]\n",
    " So the count will be [2,2,3,2]."
   ]
  },
  {
   "cell_type": "code",
   "execution_count": null,
   "metadata": {},
   "outputs": [],
   "source": [
    "vector<int> Solution::solve(vector<int> &A) {\n",
    "    \n",
    "    int maxElement = INT_MIN;\n",
    "    for (int i = 0; i < A.size(); i++)\n",
    "        if (A[i] > maxElement)\n",
    "            maxElement = A[i];\n",
    "            \n",
    "    vector<int> ans;\n",
    "    for (int i=0; i <= maxElement; i++)\n",
    "        ans.push_back(1);\n",
    "        \n",
    "    ans[0]=ans[1]=0;\n",
    "    for (int i=2; i<maxElement+1; i++)\n",
    "        for (int j=2*i; j<maxElement+1; j=j+i)\n",
    "            ans[j]++;\n",
    "            \n",
    "    vector<int> res;\n",
    "    for (int i = 0; i <A.size(); i++)\n",
    "        res.push_back(ans[A[i]] + 1);\n",
    "  \n",
    "    return res;\n",
    "    \n",
    "}\n",
    "\n"
   ]
  }
 ],
 "metadata": {
  "kernelspec": {
   "display_name": "Python 3",
   "language": "python",
   "name": "python3"
  },
  "language_info": {
   "codemirror_mode": {
    "name": "ipython",
    "version": 3
   },
   "file_extension": ".py",
   "mimetype": "text/x-python",
   "name": "python",
   "nbconvert_exporter": "python",
   "pygments_lexer": "ipython3",
   "version": "3.7.3"
  }
 },
 "nbformat": 4,
 "nbformat_minor": 2
}
