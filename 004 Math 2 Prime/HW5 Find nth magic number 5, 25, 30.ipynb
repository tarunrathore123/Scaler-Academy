{
 "cells": [
  {
   "cell_type": "code",
   "execution_count": null,
   "metadata": {},
   "outputs": [],
   "source": [
    "Find nth Magic Number\n",
    "\n",
    "Problem Description\n",
    "Given an integer A, find and return the A'th magic number. A magic number is defined as\n",
    "a number which can be expressed as a power of 5 or sum of unique powers of 5. \n",
    "First few magic numbers are 5, 25, 30(5 + 25), 125, 130(125 + 5), …. \n",
    "\n",
    "\n",
    "Problem Constraints\n",
    "1 <= A <= 5000\n",
    "\n",
    "\n",
    "Input Format\n",
    "The only argument given is integer A.\n",
    "\n",
    "\n",
    "Output Format\n",
    "Return the Ath magic number.\n",
    "\n",
    "\n",
    "Example Input\n",
    "Example Input 1:\n",
    "A = 10\n",
    "Example Input 2:\n",
    "A = 3\n",
    " \n",
    "\n",
    "\n",
    "Example Output\n",
    "Example Output 1:\n",
    "650\n",
    "Example Output 2:\n",
    "30\n",
    " \n",
    "\n",
    "\n",
    "Example Explanation\n",
    "Explanation 2:\n",
    "A in increasing order is [5, 25, 30, 125, 130, ...]\n",
    "3rd element in this is 30"
   ]
  },
  {
   "cell_type": "code",
   "execution_count": null,
   "metadata": {},
   "outputs": [],
   "source": [
    "class Solution:\n",
    "    # @param A : integer\n",
    "    # @return an integer\n",
    "    def solve(self, A):\n",
    "        \n",
    "        sum = 0\n",
    "        \n",
    "        for i in range(0, 32):\n",
    "            if A & (1<<i):\n",
    "                sum += pow(5, i+1)\n",
    "                \n",
    "        return sum\n"
   ]
  }
 ],
 "metadata": {
  "kernelspec": {
   "display_name": "Python 3",
   "language": "python",
   "name": "python3"
  },
  "language_info": {
   "codemirror_mode": {
    "name": "ipython",
    "version": 3
   },
   "file_extension": ".py",
   "mimetype": "text/x-python",
   "name": "python",
   "nbconvert_exporter": "python",
   "pygments_lexer": "ipython3",
   "version": "3.7.3"
  }
 },
 "nbformat": 4,
 "nbformat_minor": 2
}
