{
 "cells": [
  {
   "cell_type": "code",
   "execution_count": null,
   "metadata": {},
   "outputs": [],
   "source": [
    "Trailing Zeros in Factorial\n",
    "\n",
    "Problem Description\n",
    "Given an integer n, return the number of trailing zeroes in n!.\n",
    "Note: Your solution should be in logarithmic time complexity.\n",
    "\n",
    "\n",
    "Problem Constraints\n",
    "1 <= n <= INT_MAX\n",
    "\n",
    "\n",
    "Input Format\n",
    "First and only argument is single integer n\n",
    "\n",
    "\n",
    "Output Format\n",
    "Return single integer denoting number of zeroes.\n",
    "\n",
    "\n",
    "Example Input\n",
    "n = 5\n",
    "\n",
    "\n",
    "Example Output\n",
    "1\n",
    "\n",
    "\n",
    "Example Explanation\n",
    "n! = 120 Number of trailing zeros = 1 So, return 1"
   ]
  },
  {
   "cell_type": "code",
   "execution_count": null,
   "metadata": {},
   "outputs": [],
   "source": [
    "class Solution:\n",
    "    # @param A : integer\n",
    "    # @return an integer\n",
    "    def trailingZeroes(self, A):\n",
    "        cnt = 0\n",
    "        i = 5\n",
    "        \n",
    "        while A/i > 0:\n",
    "            cnt += A/i\n",
    "            i *= 5\n",
    "            \n",
    "            \n",
    "        return cnt"
   ]
  }
 ],
 "metadata": {
  "kernelspec": {
   "display_name": "Python 3",
   "language": "python",
   "name": "python3"
  },
  "language_info": {
   "codemirror_mode": {
    "name": "ipython",
    "version": 3
   },
   "file_extension": ".py",
   "mimetype": "text/x-python",
   "name": "python",
   "nbconvert_exporter": "python",
   "pygments_lexer": "ipython3",
   "version": "3.7.3"
  }
 },
 "nbformat": 4,
 "nbformat_minor": 2
}
