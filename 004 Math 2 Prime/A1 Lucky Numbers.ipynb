{
 "cells": [
  {
   "cell_type": "code",
   "execution_count": null,
   "metadata": {},
   "outputs": [],
   "source": [
    "Lucky Numbers\n",
    "\n",
    "A lucky number is a number which has exactly 2 distinct prime divisors. \n",
    "You are given a number N and you need to determine the count of lucky numbers\n",
    "between the range 1 to N (both inclusive). Input\n",
    "\n",
    "The first argument contains one integer number N (1 ≤  N  ≤ 5000)\n",
    "\n",
    "Output\n",
    "Return an integer i.e the count of lucky numbers between 1 and N, both inclusive.\n",
    "Examples Input\n",
    "8\n",
    "Output\n",
    "1 \n",
    "Explanation Testcase 1-\n",
    "Between [1,8] there is only 1 lucky number i.e 6"
   ]
  },
  {
   "cell_type": "code",
   "execution_count": null,
   "metadata": {},
   "outputs": [],
   "source": [
    "\n",
    "\n",
    "class Solution:\n",
    "    # @param A : integer\n",
    "    # @return an integer\n",
    "    def Sieve(self, n):\n",
    "        prime = [True for i in range(n+1)]\n",
    "        prime[0] = False\n",
    "        prime[1] = False\n",
    "        i = 2\n",
    "        res = []\n",
    "        while i <= n:\n",
    "            if prime[i]:\n",
    "              res.append(i)\n",
    "              for j in range(i*i, n+1, i):\n",
    "                prime[j] = False\n",
    "            i += 1\n",
    "            \n",
    "        return res\n",
    "        \n",
    "   \n",
    "    def solve(self, n):\n",
    "        if n < 6:\n",
    "            return 0\n",
    "    \n",
    "        prime = self.Sieve(n)\n",
    "        cnt = 1\n",
    "        for i in range(7, n+1):\n",
    "            div = 0\n",
    "            \n",
    "            for j in prime:      \n",
    "                if i % j == 0:\n",
    "                    div += 1\n",
    "            if div == 2:\n",
    "                cnt += 1\n",
    "        \n",
    "        return cnt\n",
    "        \n",
    "        "
   ]
  }
 ],
 "metadata": {
  "kernelspec": {
   "display_name": "Python 3",
   "language": "python",
   "name": "python3"
  },
  "language_info": {
   "codemirror_mode": {
    "name": "ipython",
    "version": 3
   },
   "file_extension": ".py",
   "mimetype": "text/x-python",
   "name": "python",
   "nbconvert_exporter": "python",
   "pygments_lexer": "ipython3",
   "version": "3.7.3"
  }
 },
 "nbformat": 4,
 "nbformat_minor": 2
}
