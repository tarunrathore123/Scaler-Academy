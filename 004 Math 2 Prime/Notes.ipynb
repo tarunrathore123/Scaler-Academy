{
 "cells": [
  {
   "cell_type": "code",
   "execution_count": 1,
   "metadata": {},
   "outputs": [
    {
     "name": "stdout",
     "output_type": "stream",
     "text": [
      "2.23606797749979\n"
     ]
    }
   ],
   "source": [
    "print(5**0.5)"
   ]
  },
  {
   "cell_type": "code",
   "execution_count": 3,
   "metadata": {},
   "outputs": [
    {
     "name": "stdout",
     "output_type": "stream",
     "text": [
      "1\n",
      "2\n",
      "3\n",
      "4\n",
      "5\n",
      "6\n",
      "10\n",
      "12\n",
      "15\n",
      "20\n",
      "30\n"
     ]
    }
   ],
   "source": [
    "n = 60\n",
    "for i in range(1,n+1):\n",
    "    if n%i == 0:\n",
    "        print(i)\n",
    "    \n",
    "# T.C: O(N)"
   ]
  },
  {
   "cell_type": "code",
   "execution_count": 11,
   "metadata": {},
   "outputs": [
    {
     "name": "stdout",
     "output_type": "stream",
     "text": [
      "1 60\n",
      "2 30\n",
      "3 20\n",
      "4 15\n",
      "5 12\n",
      "6 10\n"
     ]
    }
   ],
   "source": [
    "import math\n",
    "n = 60\n",
    "for i in range(1,math.floor(math.sqrt(n))):\n",
    "    if n%i == 0:\n",
    "        print(i, end = \" \")\n",
    "        print(n//i)\n",
    "\n",
    "# T.C: O(N)"
   ]
  },
  {
   "cell_type": "code",
   "execution_count": 37,
   "metadata": {},
   "outputs": [
    {
     "name": "stdout",
     "output_type": "stream",
     "text": [
      "1 25\n",
      "5 5\n"
     ]
    }
   ],
   "source": [
    "# For perfect squares, it is printing two times\n",
    "import math\n",
    "n = 25\n",
    "for i in range(1,math.floor(math.sqrt(n))+1):\n",
    "    if n%i == 0:\n",
    "        print(i, end = \" \")\n",
    "        print(n//i)\n",
    "\n",
    "# T.C: O(N)"
   ]
  },
  {
   "cell_type": "code",
   "execution_count": 39,
   "metadata": {},
   "outputs": [
    {
     "name": "stdout",
     "output_type": "stream",
     "text": [
      "1 36\n",
      "2 18\n",
      "3 12\n",
      "4 9\n",
      "6\n"
     ]
    }
   ],
   "source": [
    "# Overcoming the issue of perfect squares\n",
    "import math\n",
    "n = 36\n",
    "for i in range(1,int(math.sqrt(n))):\n",
    "    if n%i == 0:\n",
    "        print(i, end = \" \")\n",
    "        print(n//i)\n",
    "    \n",
    "if n%(i+1) == 0:\n",
    "    print(i+1)"
   ]
  },
  {
   "cell_type": "code",
   "execution_count": 40,
   "metadata": {},
   "outputs": [
    {
     "ename": "SyntaxError",
     "evalue": "invalid syntax (<ipython-input-40-bd9996609428>, line 2)",
     "output_type": "error",
     "traceback": [
      "\u001b[1;36m  File \u001b[1;32m\"<ipython-input-40-bd9996609428>\"\u001b[1;36m, line \u001b[1;32m2\u001b[0m\n\u001b[1;33m    for (i=1;i*i<=n;i++):\u001b[0m\n\u001b[1;37m          ^\u001b[0m\n\u001b[1;31mSyntaxError\u001b[0m\u001b[1;31m:\u001b[0m invalid syntax\n"
     ]
    }
   ],
   "source": [
    "n =100\n",
    "for (i=1;i*i<=n;i++):\n",
    "    print(i)\n"
   ]
  },
  {
   "cell_type": "code",
   "execution_count": 44,
   "metadata": {},
   "outputs": [
    {
     "name": "stdout",
     "output_type": "stream",
     "text": [
      "6\n"
     ]
    }
   ],
   "source": [
    "from math import factorial\n",
    "print( (factorial(4)//factorial(2))//2 )"
   ]
  },
  {
   "cell_type": "code",
   "execution_count": 60,
   "metadata": {},
   "outputs": [
    {
     "name": "stdout",
     "output_type": "stream",
     "text": [
      "[0, 0, 1, 1, 0, 1, 0, 1, 0, 0, 0, 1, 0, 1, 0, 0, 0, 1, 0, 1, 0, 0, 0, 1, 0, 0, 0, 0, 0, 1, 0, 1, 0, 0, 0, 0, 0, 1, 0, 0, 0, 1, 0, 1, 0, 0, 0, 1, 0, 0, 0, 0, 0, 1, 0, 0, 0, 0, 0, 1, 0, 1, 0, 0, 0, 0, 0, 1, 0, 0, 0, 1, 0, 1, 0, 0, 0, 0, 0, 1, 0, 0, 0, 1, 0, 0, 0, 0, 0, 1, 0, 0, 0, 0, 0, 0, 0, 1, 0, 0, 0]\n",
      "\n",
      "2\n",
      "3\n",
      "5\n",
      "7\n",
      "11\n",
      "13\n",
      "17\n",
      "19\n",
      "23\n",
      "29\n",
      "31\n",
      "37\n",
      "41\n",
      "43\n",
      "47\n",
      "53\n",
      "59\n",
      "61\n",
      "67\n",
      "71\n",
      "73\n",
      "79\n",
      "83\n",
      "89\n",
      "97\n"
     ]
    }
   ],
   "source": [
    "from math import factorial, sqrt\n",
    "\n",
    "def Sieve(n):\n",
    "    \n",
    "    prime = [1]*(n+1)\n",
    "    prime[0] = 0\n",
    "    prime[1] = 0\n",
    "    for i in range(2, int(sqrt(n))):\n",
    "        if prime[i]:\n",
    "            for j in range(i, n+1):\n",
    "                if i*j <= n:\n",
    "                    prime[i*j] = 0                \n",
    "    \n",
    "    return prime\n",
    "\n",
    "print(Sieve(100))\n",
    "print()\n",
    "arr = Sieve(100)\n",
    "for i in range(len(arr)):\n",
    "    if arr[i] == 1:\n",
    "        print(i)"
   ]
  },
  {
   "cell_type": "code",
   "execution_count": null,
   "metadata": {},
   "outputs": [],
   "source": [
    "from math import sqrt, factorial, ceil\n",
    "def solve(n):   \n",
    "    \n",
    "    prime = [1]*(n+1)\n",
    "    prime[0] = 0\n",
    "    prime[1] = 0\n",
    "    for i in range(2, n):\n",
    "        if prime[i]:\n",
    "            for j in range(i, n+1):\n",
    "                if i*j <= n:\n",
    "                    prime[i*j] = 0                \n",
    "\n",
    "    print(prime)    \n",
    "\n",
    "    cnt = 0\n",
    "    for i in range(n//2):\n",
    "        if prime[i] == 1:\n",
    "            print(i, \"primes\")\n",
    "            cnt += 1\n",
    "            \n",
    "\n",
    "    print(cnt)\n",
    "\n",
    "    if cnt <= 0:\n",
    "      return 0\n",
    "    if cnt == 1:\n",
    "      return 1\n",
    "\n",
    "    return ((factorial(cnt)//factorial(cnt-2))//2 )\n",
    "    \n",
    "\n",
    "print(solve(21))"
   ]
  },
  {
   "cell_type": "markdown",
   "metadata": {},
   "source": [
    "# Factors:"
   ]
  },
  {
   "cell_type": "code",
   "execution_count": 75,
   "metadata": {},
   "outputs": [
    {
     "name": "stdout",
     "output_type": "stream",
     "text": [
      "1 24\n",
      "2 12\n",
      "3 8\n",
      "4 6\n",
      "--------\n",
      "1 25\n",
      "5\n"
     ]
    }
   ],
   "source": [
    "def factors(n):\n",
    "    i = 1\n",
    "    while i*i <n:\n",
    "        if n%i == 0:\n",
    "            print(i, n//i)\n",
    "        i += 1\n",
    "    if n%i == 0:\n",
    "        print(i)\n",
    "\n",
    "factors(24)\n",
    "print(\"--------\")\n",
    "factors(25)   # works well for perfect squares as well"
   ]
  },
  {
   "cell_type": "markdown",
   "metadata": {},
   "source": [
    "# Sieve:"
   ]
  },
  {
   "cell_type": "code",
   "execution_count": null,
   "metadata": {},
   "outputs": [],
   "source": [
    "def Sieve(n):\n",
    "  prime = [True for i in range(n+1)]\n",
    "  p = 2\n",
    "  prime[0] = False\n",
    "  prime[1] = False\n",
    "  while p*p <= n:\n",
    "    if prime[p]:\n",
    "      for i in range(p*p, n+1, p):\n",
    "        prime[i] = False\n",
    "      p += 1\n",
    "\n",
    "  return prime\n",
    "\n",
    "print(Sieve(10))"
   ]
  },
  {
   "cell_type": "markdown",
   "metadata": {},
   "source": [
    "# Doors"
   ]
  },
  {
   "cell_type": "code",
   "execution_count": 64,
   "metadata": {},
   "outputs": [
    {
     "name": "stdout",
     "output_type": "stream",
     "text": [
      "1 4 9 16 25 36 49 64 81 100 "
     ]
    }
   ],
   "source": [
    "def doors(n):\n",
    "    i = 1\n",
    "    while i*i <= n:\n",
    "        print(i*i, end = \" \")\n",
    "        i += 1\n",
    "\n",
    "doors(100)"
   ]
  },
  {
   "cell_type": "markdown",
   "metadata": {},
   "source": [
    "# Check Prime: O(N)"
   ]
  },
  {
   "cell_type": "code",
   "execution_count": 65,
   "metadata": {},
   "outputs": [
    {
     "name": "stdout",
     "output_type": "stream",
     "text": [
      "0 Not Prime \n",
      "1 Not Prime \n",
      "2 Prime \n",
      "3 Prime \n",
      "4 Not Prime \n",
      "5 Prime \n",
      "6 Not Prime \n",
      "7 Prime \n",
      "8 Not Prime \n",
      "9 Not Prime \n"
     ]
    }
   ],
   "source": [
    "def isPrime(n):\n",
    "  cnt = 0\n",
    "  for i in range(2, n+1):\n",
    "    if n%i == 0:\n",
    "      cnt += 1\n",
    "  \n",
    "  if cnt == 1:\n",
    "    return \"Prime\"\n",
    "  return \"Not Prime\"\n",
    "\n",
    "for i in range(10):\n",
    "  print(i, isPrime(i), end = \" \")\n",
    "  print()"
   ]
  },
  {
   "cell_type": "markdown",
   "metadata": {},
   "source": [
    "# Prime: O(N)"
   ]
  },
  {
   "cell_type": "code",
   "execution_count": 79,
   "metadata": {},
   "outputs": [
    {
     "name": "stdout",
     "output_type": "stream",
     "text": [
      "2    \n",
      "3 Prime\n",
      "4    \n",
      "5 Prime\n",
      "6    \n",
      "7 Prime\n",
      "8    \n",
      "9    \n",
      "10    \n",
      "11 Prime\n",
      "12    \n",
      "13 Prime\n",
      "14    \n",
      "15    \n",
      "16    \n",
      "17 Prime\n",
      "18    \n",
      "19 Prime\n",
      "20    \n",
      "21    \n",
      "22    \n",
      "23 Prime\n",
      "24    \n",
      "25    \n",
      "26    \n",
      "27    \n",
      "28    \n",
      "29 Prime\n",
      "30    \n",
      "31 Prime\n",
      "32    \n",
      "33    \n",
      "34    \n",
      "35    \n",
      "36    \n",
      "37 Prime\n",
      "38    \n",
      "39    \n",
      "40    \n",
      "41 Prime\n",
      "42    \n",
      "43 Prime\n",
      "44    \n",
      "45    \n",
      "46    \n",
      "47 Prime\n",
      "48    \n",
      "49    \n"
     ]
    }
   ],
   "source": [
    "def isPrime(n):\n",
    "    i = 1\n",
    "    cnt = 0\n",
    "    while i*i<=n:\n",
    "        if n%i == 0:\n",
    "            cnt += 2\n",
    "        i += 1\n",
    "\n",
    "    if n%i == 0:\n",
    "        cnt += 1\n",
    "    \n",
    "    if cnt == 2:\n",
    "      return \"Prime\"\n",
    "    return \"   \"\n",
    "\n",
    "for i in range(2,50):\n",
    "    print(i, isPrime(i))    "
   ]
  },
  {
   "cell_type": "code",
   "execution_count": 1,
   "metadata": {},
   "outputs": [],
   "source": [
    "def Sieve(n):\n",
    "  prime = [True for i in range(n+1)]\n",
    "  p = 2\n",
    "  prime[0] = False\n",
    "  prime[1] = False\n",
    "  while p <= n:\n",
    "    if prime[p]:\n",
    "      for i in range(p*p, n+1, p):\n",
    "        prime[i] = False\n",
    "    p += 1\n",
    "\n",
    "  return prime\n",
    "\n"
   ]
  },
  {
   "cell_type": "code",
   "execution_count": 2,
   "metadata": {},
   "outputs": [
    {
     "name": "stdout",
     "output_type": "stream",
     "text": [
      "[False, False, True, True, False, True, False, True, False, False, False]\n"
     ]
    }
   ],
   "source": [
    "print(Sieve(10))"
   ]
  },
  {
   "cell_type": "code",
   "execution_count": null,
   "metadata": {},
   "outputs": [],
   "source": []
  }
 ],
 "metadata": {
  "kernelspec": {
   "display_name": "Python 3",
   "language": "python",
   "name": "python3"
  },
  "language_info": {
   "codemirror_mode": {
    "name": "ipython",
    "version": 3
   },
   "file_extension": ".py",
   "mimetype": "text/x-python",
   "name": "python",
   "nbconvert_exporter": "python",
   "pygments_lexer": "ipython3",
   "version": "3.7.3"
  }
 },
 "nbformat": 4,
 "nbformat_minor": 2
}
