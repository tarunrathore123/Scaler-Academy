{
 "cells": [
  {
   "cell_type": "code",
   "execution_count": null,
   "metadata": {},
   "outputs": [],
   "source": [
    "Single Number\n",
    "Problem Description\n",
    "Given an array of integers, every element appears twice except for one. Find that single one.\n",
    "\n",
    "Note: Your algorithm should have a linear runtime complexity. Could you implement it without \n",
    "    using extra memory?\n",
    "\n",
    "\n",
    "Problem Constraints\n",
    "2 <= N <= 2000000\n",
    "0 <= A[i] <= INT_MAX\n",
    "       \n",
    "\n",
    "\n",
    "Input Format\n",
    "First and only argument of input contains an integer array A.\n",
    "\n",
    "\n",
    "Output Format\n",
    "Return a single integer denoting the single element.\n",
    "\n",
    "\n",
    "Example Input\n",
    "Input 1:\n",
    "A = [1, 2, 2, 3, 1]\n",
    "Input 2:\n",
    "A = [1, 2, 2]\n",
    "        \n",
    "\n",
    "\n",
    "Example Output\n",
    "Output 1:\n",
    "3\n",
    "Output 2:\n",
    "1\n",
    "        \n",
    "\n",
    "\n",
    "Example Explanation\n",
    "3 occurs only once. So the answer is 3."
   ]
  },
  {
   "cell_type": "code",
   "execution_count": null,
   "metadata": {},
   "outputs": [],
   "source": [
    "class Solution:\n",
    "\t# @param A : tuple of integers\n",
    "\t# @return an integer\n",
    "\tdef singleNumber(self, A):\n",
    "\t    \n",
    "\t    xor = 0\n",
    "\t    for i in range(len(A)):\n",
    "\t        xor ^= A[i]\n",
    "\t        \n",
    "\t    return xor\n",
    "\t    \n"
   ]
  }
 ],
 "metadata": {
  "kernelspec": {
   "display_name": "Python 3",
   "language": "python",
   "name": "python3"
  },
  "language_info": {
   "codemirror_mode": {
    "name": "ipython",
    "version": 3
   },
   "file_extension": ".py",
   "mimetype": "text/x-python",
   "name": "python",
   "nbconvert_exporter": "python",
   "pygments_lexer": "ipython3",
   "version": "3.7.3"
  }
 },
 "nbformat": 4,
 "nbformat_minor": 2
}
