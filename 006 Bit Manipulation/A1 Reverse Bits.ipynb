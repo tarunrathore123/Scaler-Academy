{
 "cells": [
  {
   "cell_type": "code",
   "execution_count": 1,
   "metadata": {},
   "outputs": [
    {
     "data": {
      "text/plain": [
       "-1"
      ]
     },
     "execution_count": 1,
     "metadata": {},
     "output_type": "execute_result"
    }
   ],
   "source": [
    "-1"
   ]
  },
  {
   "cell_type": "code",
   "execution_count": 2,
   "metadata": {},
   "outputs": [
    {
     "data": {
      "text/plain": [
       "4294967295"
      ]
     },
     "execution_count": 2,
     "metadata": {},
     "output_type": "execute_result"
    }
   ],
   "source": [
    "_ + 2**32"
   ]
  },
  {
   "cell_type": "code",
   "execution_count": 3,
   "metadata": {},
   "outputs": [
    {
     "data": {
      "text/plain": [
       "4294967295"
      ]
     },
     "execution_count": 3,
     "metadata": {},
     "output_type": "execute_result"
    }
   ],
   "source": [
    "_"
   ]
  },
  {
   "cell_type": "code",
   "execution_count": 4,
   "metadata": {},
   "outputs": [
    {
     "data": {
      "text/plain": [
       "'0b11111111111111111111111111111111'"
      ]
     },
     "execution_count": 4,
     "metadata": {},
     "output_type": "execute_result"
    }
   ],
   "source": [
    "bin(_)"
   ]
  },
  {
   "cell_type": "code",
   "execution_count": 5,
   "metadata": {},
   "outputs": [
    {
     "data": {
      "text/plain": [
       "'0b1'"
      ]
     },
     "execution_count": 5,
     "metadata": {},
     "output_type": "execute_result"
    }
   ],
   "source": [
    "bin(1)\n"
   ]
  },
  {
   "cell_type": "code",
   "execution_count": null,
   "metadata": {},
   "outputs": [],
   "source": [
    "Reverse Bits\n",
    "Problem Description\n",
    "Reverse the bits of an 32 bit unsigned integer A.\n",
    "\n",
    "\n",
    "Problem Constraints\n",
    "0 <= A <= 2^32\n",
    "   \n",
    "\n",
    "\n",
    "Input Format\n",
    "First and only argument of input contains an integer A.\n",
    "\n",
    "\n",
    "Output Format\n",
    "Return a single unsigned integer denoting minimum xor value.\n",
    "\n",
    "\n",
    "Example Input\n",
    "Input 1:\n",
    "0\n",
    "Input 2:\n",
    "3\n",
    "    \n",
    "\n",
    "\n",
    "Example Output\n",
    "Output 1:\n",
    "0\n",
    "Output 2:\n",
    "3221225472\n",
    "    \n",
    "\n",
    "\n",
    "Example Explanation\n",
    "Explanation 1:\n",
    "        00000000000000000000000000000000  \n",
    "=>      00000000000000000000000000000000\n",
    "Explanation 2:    \n",
    "         00000000000000000000000000000011 \n",
    "=>       11000000000000000000000000000000\n",
    "    \n",
    "\n"
   ]
  },
  {
   "cell_type": "code",
   "execution_count": 24,
   "metadata": {},
   "outputs": [
    {
     "name": "stdout",
     "output_type": "stream",
     "text": [
      "3 0b11\n",
      "3221225472 0b11000000000000000000000000000000\n"
     ]
    }
   ],
   "source": [
    "A = 3\n",
    "\n",
    "num = 0\n",
    "for i in range(64):\n",
    "    if A&(1<<i):\n",
    "        num = num | (1 << (31-i))\n",
    "\n",
    "print(A, bin(A))\n",
    "print(num, bin(num))"
   ]
  }
 ],
 "metadata": {
  "kernelspec": {
   "display_name": "Python 3",
   "language": "python",
   "name": "python3"
  },
  "language_info": {
   "codemirror_mode": {
    "name": "ipython",
    "version": 3
   },
   "file_extension": ".py",
   "mimetype": "text/x-python",
   "name": "python",
   "nbconvert_exporter": "python",
   "pygments_lexer": "ipython3",
   "version": "3.7.3"
  }
 },
 "nbformat": 4,
 "nbformat_minor": 2
}
