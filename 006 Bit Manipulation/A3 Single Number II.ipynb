{
 "cells": [
  {
   "cell_type": "code",
   "execution_count": null,
   "metadata": {},
   "outputs": [],
   "source": [
    "Single Number II\n",
    "Problem Description\n",
    "Given an array of integers, every element appears thrice except for one which occurs once.\n",
    "\n",
    "Find that element which does not appear thrice.\n",
    "\n",
    "Note: Your algorithm should have a linear runtime complexity.\n",
    "\n",
    "Could you implement it without using extra memory?\n",
    "\n",
    "\n",
    "\n",
    "Problem Constraints\n",
    "2 <= A <= 5 000 000\n",
    "0 <= A <= INT_MAX\n",
    "        \n",
    "\n",
    "\n",
    "Input Format\n",
    "First and only argument of input contains an integer array A.\n",
    "\n",
    "\n",
    "Output Format\n",
    "Return a single integer.\n",
    "\n",
    "\n",
    "Example Input\n",
    "Input 1:\n",
    "A = [1, 2, 4, 3, 3, 2, 2, 3, 1, 1]\n",
    "Input 2:\n",
    "A = [0, 0, 0, 1]\n",
    "      \n",
    "\n",
    "\n",
    "Example Output\n",
    "Output 1:\n",
    "4\n",
    "Output 2:\n",
    "1\n",
    "      \n",
    "\n",
    "\n",
    "Example Explanation\n",
    "Explanation:\n",
    "4 occurs exactly once in Input 1.\n",
    "1 occurs exactly once in Input 2.\n",
    "      "
   ]
  },
  {
   "cell_type": "code",
   "execution_count": null,
   "metadata": {},
   "outputs": [],
   "source": [
    "class Solution:\n",
    "\t# @param A : tuple of integers\n",
    "\t# @return an integer\n",
    "\tdef singleNumber(self, A):\n",
    "\t    \n",
    "\t    lostNumber = 0\n",
    "\t    for i in range(32):\n",
    "\t        cnt1 = 0\n",
    "\t        for j in range(len(A)):\n",
    "\t            if A[j] & (1<<i):\n",
    "\t                cnt1 += 1\n",
    "\t           \n",
    "\t        if cnt1 % 3 == 1:\n",
    "\t            lostNumber = lostNumber | (1<<i)\n",
    "\t           \n",
    "\t    return lostNumber"
   ]
  }
 ],
 "metadata": {
  "kernelspec": {
   "display_name": "Python 3",
   "language": "python",
   "name": "python3"
  },
  "language_info": {
   "codemirror_mode": {
    "name": "ipython",
    "version": 3
   },
   "file_extension": ".py",
   "mimetype": "text/x-python",
   "name": "python",
   "nbconvert_exporter": "python",
   "pygments_lexer": "ipython3",
   "version": "3.7.3"
  }
 },
 "nbformat": 4,
 "nbformat_minor": 2
}
