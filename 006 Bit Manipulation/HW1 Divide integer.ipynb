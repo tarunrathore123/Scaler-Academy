{
 "cells": [
  {
   "cell_type": "code",
   "execution_count": null,
   "metadata": {},
   "outputs": [],
   "source": [
    "Divide Integers\n",
    "Divide two integers without using multiplication, division and mod operator. Return the floor of the result of the division. Example:\n",
    "5 / 2 = 2\n",
    "Also, consider if there can be overflow cases. For overflow case, return INT_MAX. Note: INT_MAX = 2^31 - 1"
   ]
  },
  {
   "cell_type": "code",
   "execution_count": null,
   "metadata": {},
   "outputs": [],
   "source": [
    "import math\n",
    "class Solution:\n",
    "\t# @param A : integer\n",
    "\t# @param B : integer\n",
    "\t# @return an integer\n",
    "\tdef divide(self, A, B):\n",
    "\t    \n",
    "\t    intMin = -2147483648\n",
    "\t    intMax = 2147483647\n",
    "\t \n",
    "\t    sign = -1 if A^B < 0 else 1\n",
    "            \n",
    "        A = abs(A)\n",
    "        B = abs(B)\n",
    "\t    x,t = 0,0\n",
    "\t    \n",
    "\t    for i in range(31,-1,-1):\n",
    "\t        t = ((1<<i)*B)\n",
    "\t        if A - t >= 0:\n",
    "\t            A -= t\n",
    "\t            x |= (1<<i)\n",
    "\t            \n",
    "\t    if sign < 0:\n",
    "\t        x = -x\n",
    "\t        \n",
    "\t    return intMax if x >= intMax or x < intMin else x\n",
    "\t    \n"
   ]
  }
 ],
 "metadata": {
  "kernelspec": {
   "display_name": "Python 3",
   "language": "python",
   "name": "python3"
  },
  "language_info": {
   "codemirror_mode": {
    "name": "ipython",
    "version": 3
   },
   "file_extension": ".py",
   "mimetype": "text/x-python",
   "name": "python",
   "nbconvert_exporter": "python",
   "pygments_lexer": "ipython3",
   "version": "3.7.3"
  }
 },
 "nbformat": 4,
 "nbformat_minor": 2
}
