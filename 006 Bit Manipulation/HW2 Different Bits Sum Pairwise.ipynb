{
 "cells": [
  {
   "cell_type": "code",
   "execution_count": null,
   "metadata": {},
   "outputs": [],
   "source": [
    "Different Bits Sum Pairwise\n",
    "Problem Description\n",
    "We define f(X, Y) as number of different corresponding bits in binary representation of\n",
    "X and Y. For example, f(2, 7) = 2, since binary representation of 2 and 7 are 010 and 111,\n",
    "respectively. The first and the third bit differ, so f(2, 7) = 2. \n",
    "You are given an array of N positive integers, A1, A2 ,..., AN. \n",
    "Find sum of f(Ai, Aj) for all pairs (i, j) such that 1 ≤ i, j ≤ N. \n",
    "Return the answer modulo 109+7.     \n",
    "\n",
    "\n",
    "Problem Constraints\n",
    "  \n",
    "1 <= N <= 100000\n",
    "1 <= A[i] <= INTMAX\n",
    "     \n",
    "\n",
    "\n",
    "Input Format\n",
    "First and only argument of input contains a single integer array A.\n",
    "\n",
    "\n",
    "Output Format\n",
    "Return a single integer denoting the sum.\n",
    "\n",
    "\n",
    "Example Input\n",
    "Input 1:\n",
    "A = [1, 3, 5]\n",
    "     \n",
    "\n",
    "\n",
    "Example Output\n",
    "Ouptut 1:\n",
    "8\n",
    "     \n",
    "\n",
    "\n",
    "Example Explanation\n",
    "Explanation 1:\n",
    "f(1, 1) + f(1, 3) + f(1, 5) + f(3, 1) + f(3, 3) + f(3, 5) + f(5, 1) + f(5, 3) + f(5, 5) \n",
    "= 0 + 1 + 1 + 1 + 0 + 2 + 1 + 2 + 0"
   ]
  },
  {
   "cell_type": "code",
   "execution_count": null,
   "metadata": {},
   "outputs": [],
   "source": [
    "class Solution:\n",
    "\t# @param A : list of integers\n",
    "\t# @return an integer\n",
    "\tdef cntBits(self, A):\n",
    "\t    mod = 1000000007\n",
    "\t    sum = 0\n",
    "\t    n = len(A)\n",
    "\t    \n",
    "\t    for i in range(64):\n",
    "\t        cnt1 = 0\n",
    "\t        for j in range(n):\n",
    "\t            if A[j]&(1<<i):\n",
    "\t                cnt1 += 1\n",
    "\t        \n",
    "\t        sum = (sum + (cnt1)*(n-cnt1)*2)%mod\n",
    "\t       \n",
    "\t    return sum % mod"
   ]
  }
 ],
 "metadata": {
  "kernelspec": {
   "display_name": "Python 3",
   "language": "python",
   "name": "python3"
  },
  "language_info": {
   "codemirror_mode": {
    "name": "ipython",
    "version": 3
   },
   "file_extension": ".py",
   "mimetype": "text/x-python",
   "name": "python",
   "nbconvert_exporter": "python",
   "pygments_lexer": "ipython3",
   "version": "3.7.3"
  }
 },
 "nbformat": 4,
 "nbformat_minor": 2
}
