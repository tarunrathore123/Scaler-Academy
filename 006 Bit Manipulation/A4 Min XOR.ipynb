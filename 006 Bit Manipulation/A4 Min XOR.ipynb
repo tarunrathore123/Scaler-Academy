{
 "cells": [
  {
   "cell_type": "code",
   "execution_count": null,
   "metadata": {},
   "outputs": [],
   "source": [
    "Min XOR value\n",
    "Problem Description\n",
    "Given an integer array A of N integers, find the pair of integers in the array which have minimum XOR value. Report the minimum XOR value.\n",
    "\n",
    "\n",
    "Problem Constraints\n",
    "2 <= length of the array <= 100000\n",
    "0 <= A[i] <= 10^9\n",
    "\n",
    "\n",
    "Input Format\n",
    "First and only argument of input contains an integer array A.\n",
    "\n",
    "\n",
    "Output Format\n",
    "return a single integer denoting minimum xor value.\n",
    "\n",
    "\n",
    "Example Input\n",
    "Input 1:\n",
    "A = [0, 2, 5, 7]\n",
    "Input 2:\n",
    "A = [0, 4, 7, 9]\n",
    "    \n",
    "\n",
    "\n",
    "Example Output\n",
    "Output 1:\n",
    "2\n",
    "Output 2:\n",
    "3\n",
    "    \n",
    "\n",
    "\n",
    "Example Explanation\n",
    " Explanation 1: 0 xor 2 = 2"
   ]
  },
  {
   "cell_type": "code",
   "execution_count": null,
   "metadata": {},
   "outputs": [],
   "source": [
    "class Solution:\n",
    "\t# @param A : list of integers\n",
    "\t# @return an integer\n",
    "\tdef findMinXor(self, A):\n",
    "\t    \n",
    "\t    A.sort()\n",
    "\t    min1 = 999999\n",
    "\t    for i in range(len(A)-1):\n",
    "\t        x = A[i]^A[i+1]\n",
    "\t        \n",
    "\t        if x < min1:\n",
    "\t            min1 = x\n",
    "\t            \n",
    "\t    return min1\n",
    "\t    "
   ]
  }
 ],
 "metadata": {
  "kernelspec": {
   "display_name": "Python 3",
   "language": "python",
   "name": "python3"
  },
  "language_info": {
   "codemirror_mode": {
    "name": "ipython",
    "version": 3
   },
   "file_extension": ".py",
   "mimetype": "text/x-python",
   "name": "python",
   "nbconvert_exporter": "python",
   "pygments_lexer": "ipython3",
   "version": "3.7.3"
  }
 },
 "nbformat": 4,
 "nbformat_minor": 2
}
