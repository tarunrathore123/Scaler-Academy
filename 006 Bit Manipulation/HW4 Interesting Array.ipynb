{
 "cells": [
  {
   "cell_type": "code",
   "execution_count": null,
   "metadata": {},
   "outputs": [],
   "source": [
    "Interesting Array\n",
    "Problem Description\n",
    "You have an array A[] with N elements. We have 2 types of operation available on this array :\n",
    "We can split a element B into 2 elements C and D such that B = C + D.\n",
    "We can merge 2 elements P and Q as one element R such that R = P^Q i.e XOR of P and Q.\n",
    "You have to determine whether it is possible to make array A[] containing only 1 element 0\n",
    "after several splits and/or merge?\n",
    "\n",
    "\n",
    "Problem Constraints\n",
    "1<=N<=100000 \n",
    "1<=A[i]<=10^6\n",
    "\n",
    "\n",
    "Input Format\n",
    "The first argument is an integer array A of size N.\n",
    "\n",
    "\n",
    "Output Format\n",
    "Return \"Yes\" if it is possible otherwise return \"No\".\n",
    "\n",
    "\n",
    "Example Input\n",
    "A=[9,17]\n",
    "\n",
    "\n",
    "Example Output\n",
    "Yes\n",
    "\n",
    "\n",
    "Example Explanation\n",
    "Following is one possible sequence of operations -  \n",
    "1) Merge i.e 9 XOR 17 = 24  \n",
    "2) Split 24 into two parts each of size 12  \n",
    "3) Merge i.e 12 XOR 12 = 0  \n",
    "As there is only 1 element i.e 0. So it is possible."
   ]
  },
  {
   "cell_type": "code",
   "execution_count": null,
   "metadata": {},
   "outputs": [],
   "source": [
    "class Solution:\n",
    "    def solve(self, A):\n",
    "        \n",
    "        odd = 0\n",
    "        for i in range(len(A)):\n",
    "            if A[i]&1:\n",
    "                odd += 1\n",
    "        \n",
    "        if odd&1:\n",
    "            return \"No\"\n",
    "        return \"Yes\""
   ]
  }
 ],
 "metadata": {
  "kernelspec": {
   "display_name": "Python 3",
   "language": "python",
   "name": "python3"
  },
  "language_info": {
   "codemirror_mode": {
    "name": "ipython",
    "version": 3
   },
   "file_extension": ".py",
   "mimetype": "text/x-python",
   "name": "python",
   "nbconvert_exporter": "python",
   "pygments_lexer": "ipython3",
   "version": "3.7.3"
  }
 },
 "nbformat": 4,
 "nbformat_minor": 2
}
